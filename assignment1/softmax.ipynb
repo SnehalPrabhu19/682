{
 "cells": [
  {
   "cell_type": "markdown",
   "metadata": {},
   "source": [
    "# Softmax exercise\n",
    "\n",
    "*Complete and hand in this completed worksheet (including its outputs and any supporting code outside of the worksheet) with your assignment submission. For more details see the [assignments page](https://compsci682-fa19.github.io/assignments2019/assignment1/) on the course website.*\n",
    "\n",
    "This exercise is analogous to the SVM exercise. You will:\n",
    "\n",
    "- implement a fully-vectorized **loss function** for the Softmax classifier\n",
    "- implement the fully-vectorized expression for its **analytic gradient**\n",
    "- **check your implementation** with numerical gradient\n",
    "- use a validation set to **tune the learning rate and regularization** strength\n",
    "- **optimize** the loss function with **SGD**\n",
    "- **visualize** the final learned weights\n"
   ]
  },
  {
   "cell_type": "code",
   "execution_count": 1,
   "metadata": {},
   "outputs": [],
   "source": [
    "from __future__ import print_function\n",
    "import random\n",
    "import numpy as np\n",
    "from cs682.data_utils import load_CIFAR10\n",
    "import matplotlib.pyplot as plt\n",
    "\n",
    "\n",
    "%matplotlib inline\n",
    "plt.rcParams['figure.figsize'] = (10.0, 8.0) # set default size of plots\n",
    "plt.rcParams['image.interpolation'] = 'nearest'\n",
    "plt.rcParams['image.cmap'] = 'gray'\n",
    "\n",
    "# for auto-reloading extenrnal modules\n",
    "# see http://stackoverflow.com/questions/1907993/autoreload-of-modules-in-ipython\n",
    "%load_ext autoreload\n",
    "%autoreload 2"
   ]
  },
  {
   "cell_type": "code",
   "execution_count": 2,
   "metadata": {},
   "outputs": [
    {
     "name": "stdout",
     "output_type": "stream",
     "text": [
      "Train data shape:  (49000, 3073)\n",
      "Train labels shape:  (49000,)\n",
      "Validation data shape:  (1000, 3073)\n",
      "Validation labels shape:  (1000,)\n",
      "Test data shape:  (1000, 3073)\n",
      "Test labels shape:  (1000,)\n",
      "dev data shape:  (500, 3073)\n",
      "dev labels shape:  (500,)\n"
     ]
    }
   ],
   "source": [
    "def get_CIFAR10_data(num_training=49000, num_validation=1000, num_test=1000, num_dev=500):\n",
    "    \"\"\"\n",
    "    Load the CIFAR-10 dataset from disk and perform preprocessing to prepare\n",
    "    it for the linear classifier. These are the same steps as we used for the\n",
    "    SVM, but condensed to a single function.  \n",
    "    \"\"\"\n",
    "    # Load the raw CIFAR-10 data\n",
    "    cifar10_dir = 'cs682/datasets/cifar-10-batches-py'\n",
    "    \n",
    "    X_train, y_train, X_test, y_test = load_CIFAR10(cifar10_dir)\n",
    "    \n",
    "    # subsample the data\n",
    "    mask = list(range(num_training, num_training + num_validation))\n",
    "    X_val = X_train[mask]\n",
    "    y_val = y_train[mask]\n",
    "    mask = list(range(num_training))\n",
    "    X_train = X_train[mask]\n",
    "    y_train = y_train[mask]\n",
    "    mask = list(range(num_test))\n",
    "    X_test = X_test[mask]\n",
    "    y_test = y_test[mask]\n",
    "    mask = np.random.choice(num_training, num_dev, replace=False)\n",
    "    X_dev = X_train[mask]\n",
    "    y_dev = y_train[mask]\n",
    "    \n",
    "    # Preprocessing: reshape the image data into rows\n",
    "    X_train = np.reshape(X_train, (X_train.shape[0], -1))\n",
    "    X_val = np.reshape(X_val, (X_val.shape[0], -1))\n",
    "    X_test = np.reshape(X_test, (X_test.shape[0], -1))\n",
    "    X_dev = np.reshape(X_dev, (X_dev.shape[0], -1))\n",
    "    \n",
    "    # Normalize the data: subtract the mean image\n",
    "    mean_image = np.mean(X_train, axis = 0)\n",
    "    X_train -= mean_image\n",
    "    X_val -= mean_image\n",
    "    X_test -= mean_image\n",
    "    X_dev -= mean_image\n",
    "    \n",
    "    # add bias dimension and transform into columns\n",
    "    X_train = np.hstack([X_train, np.ones((X_train.shape[0], 1))])\n",
    "    X_val = np.hstack([X_val, np.ones((X_val.shape[0], 1))])\n",
    "    X_test = np.hstack([X_test, np.ones((X_test.shape[0], 1))])\n",
    "    X_dev = np.hstack([X_dev, np.ones((X_dev.shape[0], 1))])\n",
    "    \n",
    "    return X_train, y_train, X_val, y_val, X_test, y_test, X_dev, y_dev\n",
    "\n",
    "\n",
    "# Cleaning up variables to prevent loading data multiple times (which may cause memory issue)\n",
    "try:\n",
    "    del X_train, y_train\n",
    "    del X_test, y_test\n",
    "    print('Clear previously loaded data.')\n",
    "except:\n",
    "    pass\n",
    "\n",
    "# Invoke the above function to get our data.\n",
    "X_train, y_train, X_val, y_val, X_test, y_test, X_dev, y_dev = get_CIFAR10_data()\n",
    "print('Train data shape: ', X_train.shape)\n",
    "print('Train labels shape: ', y_train.shape)\n",
    "print('Validation data shape: ', X_val.shape)\n",
    "print('Validation labels shape: ', y_val.shape)\n",
    "print('Test data shape: ', X_test.shape)\n",
    "print('Test labels shape: ', y_test.shape)\n",
    "print('dev data shape: ', X_dev.shape)\n",
    "print('dev labels shape: ', y_dev.shape)"
   ]
  },
  {
   "cell_type": "markdown",
   "metadata": {},
   "source": [
    "## Softmax Classifier\n",
    "\n",
    "Your code for this section will all be written inside **cs682/classifiers/softmax.py**. \n"
   ]
  },
  {
   "cell_type": "code",
   "execution_count": 3,
   "metadata": {},
   "outputs": [
    {
     "name": "stdout",
     "output_type": "stream",
     "text": [
      "vectorized loss: 2.317764e+00\n"
     ]
    }
   ],
   "source": [
    "from cs682.classifiers.softmax import softmax_loss_vectorized\n",
    "\n",
    "# Generate a random softmax weight matrix and use it to compute the loss.\n",
    "W = np.random.randn(3073, 10) * 0.0001\n",
    "loss, grad = softmax_loss_vectorized(W, X_dev, y_dev, 0.000005)\n",
    "print('vectorized loss: %e' % loss)"
   ]
  },
  {
   "cell_type": "markdown",
   "metadata": {},
   "source": [
    "**Inline Question 1**:\n",
    "Why do we expect our loss to be close to -log(0.1)? Explain briefly.**\n",
    "\n",
    "**Your answer:** *\n",
    "For the first training as we are using all random values of weights we cannot predict the correct classes, the probability of choosing a any class is equally likely. Since we have 10 classes, probability of each class being selected is (1/10) = 0.1, Therefore the softmax loss is -log(0.1).\n",
    "*\n"
   ]
  },
  {
   "cell_type": "code",
   "execution_count": 4,
   "metadata": {},
   "outputs": [
    {
     "name": "stdout",
     "output_type": "stream",
     "text": [
      "numerical: -0.457257 analytic: -0.457256, relative error: 5.720355e-08\n",
      "numerical: -1.036240 analytic: -1.036240, relative error: 2.702391e-08\n",
      "numerical: -1.052817 analytic: -1.052817, relative error: 9.328322e-09\n",
      "numerical: -1.536259 analytic: -1.536259, relative error: 4.813092e-08\n",
      "numerical: 2.683072 analytic: 2.683072, relative error: 5.074499e-09\n",
      "numerical: -2.866962 analytic: -2.866963, relative error: 3.100460e-08\n",
      "numerical: 0.653339 analytic: 0.653339, relative error: 4.381499e-09\n",
      "numerical: -2.142865 analytic: -2.142865, relative error: 2.876715e-08\n",
      "numerical: 3.194248 analytic: 3.194248, relative error: 6.020980e-09\n",
      "numerical: 3.380292 analytic: 3.380292, relative error: 1.433811e-08\n",
      "numerical: 2.076047 analytic: 2.076047, relative error: 4.958809e-08\n",
      "numerical: -2.935238 analytic: -2.935238, relative error: 2.546502e-09\n",
      "numerical: -0.740246 analytic: -0.740246, relative error: 4.163258e-08\n",
      "numerical: 1.288290 analytic: 1.288290, relative error: 2.559539e-08\n",
      "numerical: -1.152574 analytic: -1.152574, relative error: 5.074211e-08\n",
      "numerical: -0.289131 analytic: -0.289131, relative error: 1.298471e-07\n",
      "numerical: -0.634832 analytic: -0.634832, relative error: 3.936692e-08\n",
      "numerical: 0.234929 analytic: 0.234929, relative error: 8.981672e-08\n",
      "numerical: 1.889626 analytic: 1.889626, relative error: 4.219126e-08\n",
      "numerical: 0.005007 analytic: 0.005007, relative error: 9.620024e-06\n"
     ]
    }
   ],
   "source": [
    "# Complete the implementation of softmax_loss_naive and implement a (naive)\n",
    "# version of the gradient that uses nested loops.\n",
    "loss, grad = softmax_loss_vectorized(W, X_dev, y_dev, 0.0)\n",
    "\n",
    "# As we did for the SVM, use numeric gradient checking as a debugging tool.\n",
    "# The numeric gradient should be close to the analytic gradient.\n",
    "from cs682.gradient_check import grad_check_sparse\n",
    "f = lambda w: softmax_loss_vectorized(w, X_dev, y_dev, 0.0)[0]\n",
    "grad_numerical = grad_check_sparse(f, W, grad, 10)\n",
    "\n",
    "# similar to SVM case, do another gradient check with regularization\n",
    "loss, grad = softmax_loss_vectorized(W, X_dev, y_dev, 5e1)\n",
    "f = lambda w: softmax_loss_vectorized(w, X_dev, y_dev, 5e1)[0]\n",
    "grad_numerical = grad_check_sparse(f, W, grad, 10)"
   ]
  },
  {
   "cell_type": "code",
   "execution_count": 6,
   "metadata": {},
   "outputs": [
    {
     "name": "stdout",
     "output_type": "stream",
     "text": [
      "loss: 2.287954\n"
     ]
    }
   ],
   "source": [
    "from cs682.classifiers.softmax import softmax_loss_naive\n",
    "\n",
    "# Generate a random softmax weight matrix and use it to compute the loss.\n",
    "W = np.random.randn(3073, 10) * 0.0001\n",
    "loss, grad = softmax_loss_naive(W, X_dev, y_dev, 0.0)\n",
    "\n",
    "# As a rough sanity check, our loss should be something close to -log(0.1).\n",
    "print('loss: %f' % loss)"
   ]
  },
  {
   "cell_type": "code",
   "execution_count": 6,
   "metadata": {},
   "outputs": [
    {
     "name": "stdout",
     "output_type": "stream",
     "text": [
      "lr 1.000000e-07 reg 2.500000e+04 train accuracy: 0.323204 val accuracy: 0.341000\n",
      "lr 1.000000e-07 reg 3.300000e+04 train accuracy: 0.324510 val accuracy: 0.335000\n",
      "lr 1.000000e-07 reg 4.300000e+04 train accuracy: 0.306980 val accuracy: 0.323000\n",
      "lr 1.000000e-07 reg 5.000000e+04 train accuracy: 0.301408 val accuracy: 0.314000\n",
      "lr 2.500000e-07 reg 2.500000e+04 train accuracy: 0.332918 val accuracy: 0.347000\n",
      "lr 2.500000e-07 reg 3.300000e+04 train accuracy: 0.314939 val accuracy: 0.329000\n",
      "lr 2.500000e-07 reg 4.300000e+04 train accuracy: 0.303878 val accuracy: 0.327000\n",
      "lr 2.500000e-07 reg 5.000000e+04 train accuracy: 0.307020 val accuracy: 0.325000\n",
      "lr 4.000000e-07 reg 2.500000e+04 train accuracy: 0.324347 val accuracy: 0.338000\n",
      "lr 4.000000e-07 reg 3.300000e+04 train accuracy: 0.322286 val accuracy: 0.341000\n",
      "lr 4.000000e-07 reg 4.300000e+04 train accuracy: 0.302694 val accuracy: 0.309000\n",
      "lr 4.000000e-07 reg 5.000000e+04 train accuracy: 0.310776 val accuracy: 0.324000\n",
      "lr 5.000000e-07 reg 2.500000e+04 train accuracy: 0.329429 val accuracy: 0.342000\n",
      "lr 5.000000e-07 reg 3.300000e+04 train accuracy: 0.319531 val accuracy: 0.333000\n",
      "lr 5.000000e-07 reg 4.300000e+04 train accuracy: 0.314000 val accuracy: 0.326000\n",
      "lr 5.000000e-07 reg 5.000000e+04 train accuracy: 0.299571 val accuracy: 0.310000\n",
      "best validation accuracy achieved during cross-validation: 0.347000\n"
     ]
    }
   ],
   "source": [
    "# Use the validation set to tune hyperparameters (regularization strength and\n",
    "# learning rate). You should experiment with different ranges for the learning\n",
    "# rates and regularization strengths; if you are careful you should be able to\n",
    "# get a classification accuracy of over 0.35 on the validation set.\n",
    "from cs682.classifiers import Softmax\n",
    "results = {}\n",
    "best_val = -1\n",
    "best_softmax = None\n",
    "learning_rates = [1e-7, 2.5e-7, 4e-7, 5e-7]\n",
    "regularization_strengths = [2.5e4, 3.3e4, 4.3e4, 5e4]\n",
    "\n",
    "################################################################################\n",
    "# TODO:                                                                        #\n",
    "# Use the validation set to set the learning rate and regularization strength. #\n",
    "# This should be identical to the validation that you did for the SVM; save    #\n",
    "# the best trained softmax classifer in best_softmax.                          #\n",
    "################################################################################\n",
    "for l_rate in learning_rates:\n",
    "    for r_strength in regularization_strengths:\n",
    "        # train svm\n",
    "        softmax = Softmax()\n",
    "        loss_hist = softmax.train(X_train, y_train, learning_rate=l_rate, reg=r_strength,\n",
    "                      num_iters=1000, verbose=False)\n",
    "        \n",
    "        # predict for the validation set\n",
    "        y_train_pred = softmax.predict(X_train)\n",
    "        train_accuracy = np.mean(y_train == y_train_pred)\n",
    "        \n",
    "        # predict for the validation set\n",
    "        y_val_pred = softmax.predict(X_val)\n",
    "        val_accuracy = np.mean(y_val == y_val_pred)\n",
    "        \n",
    "        # table the result\n",
    "        results[(l_rate,r_strength)] = (train_accuracy,val_accuracy)\n",
    "        if val_accuracy> best_val:\n",
    "            best_val = val_accuracy\n",
    "            best_softmax = softmax\n",
    "################################################################################\n",
    "#                              END OF YOUR CODE                                #\n",
    "################################################################################\n",
    "    \n",
    "# Print out results.\n",
    "for lr, reg in sorted(results):\n",
    "    train_accuracy, val_accuracy = results[(lr, reg)]\n",
    "    print('lr %e reg %e train accuracy: %f val accuracy: %f' % (\n",
    "                lr, reg, train_accuracy, val_accuracy))\n",
    "    \n",
    "print('best validation accuracy achieved during cross-validation: %f' % best_val)"
   ]
  },
  {
   "cell_type": "code",
   "execution_count": 7,
   "metadata": {},
   "outputs": [
    {
     "name": "stdout",
     "output_type": "stream",
     "text": [
      "softmax on raw pixels final test set accuracy: 0.339000\n"
     ]
    }
   ],
   "source": [
    "# evaluate on test set\n",
    "# Evaluate the best softmax on test set\n",
    "y_test_pred = best_softmax.predict(X_test)\n",
    "test_accuracy = np.mean(y_test == y_test_pred)\n",
    "print('softmax on raw pixels final test set accuracy: %f' % (test_accuracy, ))"
   ]
  },
  {
   "cell_type": "markdown",
   "metadata": {},
   "source": [
    "Modified Loss"
   ]
  },
  {
   "cell_type": "markdown",
   "metadata": {},
   "source": [
    "M2 Loss"
   ]
  },
  {
   "cell_type": "code",
   "execution_count": 3,
   "metadata": {},
   "outputs": [
    {
     "name": "stdout",
     "output_type": "stream",
     "text": [
      "loss: 3.077368\n"
     ]
    }
   ],
   "source": [
    "from cs682.classifiers.softmax import softmax_loss_m2\n",
    "\n",
    "# Generate a random softmax weight matrix and use it to compute the loss.\n",
    "W = np.random.randn(3073, 10) * 0.0001\n",
    "loss, grad = softmax_loss_m2(W, X_dev, y_dev, 0.0)\n",
    "\n",
    "# As a rough sanity check, our loss should be something close to -log(0.1).\n",
    "print('loss: %f' % loss)"
   ]
  },
  {
   "cell_type": "code",
   "execution_count": 5,
   "metadata": {},
   "outputs": [
    {
     "name": "stdout",
     "output_type": "stream",
     "text": [
      "lr 1.000000e-07 reg 2.500000e+04 train accuracy: 0.335388 val accuracy: 0.351000\n",
      "lr 1.000000e-07 reg 3.300000e+04 train accuracy: 0.318510 val accuracy: 0.341000\n",
      "lr 1.000000e-07 reg 4.300000e+04 train accuracy: 0.317959 val accuracy: 0.330000\n",
      "lr 1.000000e-07 reg 5.000000e+04 train accuracy: 0.300490 val accuracy: 0.321000\n",
      "lr 2.500000e-07 reg 2.500000e+04 train accuracy: 0.305388 val accuracy: 0.315000\n",
      "lr 2.500000e-07 reg 3.300000e+04 train accuracy: 0.305612 val accuracy: 0.310000\n",
      "lr 2.500000e-07 reg 4.300000e+04 train accuracy: 0.308796 val accuracy: 0.313000\n",
      "lr 2.500000e-07 reg 5.000000e+04 train accuracy: 0.309776 val accuracy: 0.333000\n",
      "lr 4.000000e-07 reg 2.500000e+04 train accuracy: 0.295633 val accuracy: 0.305000\n",
      "lr 4.000000e-07 reg 3.300000e+04 train accuracy: 0.312388 val accuracy: 0.331000\n",
      "lr 4.000000e-07 reg 4.300000e+04 train accuracy: 0.315551 val accuracy: 0.327000\n",
      "lr 4.000000e-07 reg 5.000000e+04 train accuracy: 0.306041 val accuracy: 0.329000\n",
      "lr 5.000000e-07 reg 2.500000e+04 train accuracy: 0.303898 val accuracy: 0.315000\n",
      "lr 5.000000e-07 reg 3.300000e+04 train accuracy: 0.302102 val accuracy: 0.327000\n",
      "lr 5.000000e-07 reg 4.300000e+04 train accuracy: 0.295102 val accuracy: 0.312000\n",
      "lr 5.000000e-07 reg 5.000000e+04 train accuracy: 0.288673 val accuracy: 0.300000\n",
      "best validation accuracy achieved during cross-validation: 0.351000\n"
     ]
    }
   ],
   "source": [
    "# Use the validation set to tune hyperparameters (regularization strength and\n",
    "# learning rate). You should experiment with different ranges for the learning\n",
    "# rates and regularization strengths; if you are careful you should be able to\n",
    "# get a classification accuracy of over 0.35 on the validation set.\n",
    "from cs682.classifiers import Softmax_m2\n",
    "results = {}\n",
    "best_val = -1\n",
    "best_softmax = None\n",
    "learning_rates = [1e-7, 2.5e-7, 4e-7, 5e-7]\n",
    "regularization_strengths = [2.5e4, 3.3e4, 4.3e4, 5e4]\n",
    "\n",
    "################################################################################\n",
    "# TODO:                                                                        #\n",
    "# Use the validation set to set the learning rate and regularization strength. #\n",
    "# This should be identical to the validation that you did for the SVM; save    #\n",
    "# the best trained softmax classifer in best_softmax.                          #\n",
    "################################################################################\n",
    "for l_rate in learning_rates:\n",
    "    for r_strength in regularization_strengths:\n",
    "        # train svm\n",
    "        softmax = Softmax_m2()\n",
    "        loss_hist = softmax.train(X_train, y_train, learning_rate=l_rate, reg=r_strength,\n",
    "                      num_iters=1000, verbose=False)\n",
    "        \n",
    "        # predict for the validation set\n",
    "        y_train_pred = softmax.predict(X_train)\n",
    "        train_accuracy = np.mean(y_train == y_train_pred)\n",
    "        \n",
    "        # predict for the validation set\n",
    "        y_val_pred = softmax.predict(X_val)\n",
    "        val_accuracy = np.mean(y_val == y_val_pred)\n",
    "        \n",
    "        # table the result\n",
    "        results[(l_rate,r_strength)] = (train_accuracy,val_accuracy)\n",
    "        if val_accuracy> best_val:\n",
    "            best_val = val_accuracy\n",
    "            best_softmax = softmax\n",
    "################################################################################\n",
    "#                              END OF YOUR CODE                                #\n",
    "################################################################################\n",
    "    \n",
    "# Print out results.\n",
    "for lr, reg in sorted(results):\n",
    "    train_accuracy, val_accuracy = results[(lr, reg)]\n",
    "    print('lr %e reg %e train accuracy: %f val accuracy: %f' % (\n",
    "                lr, reg, train_accuracy, val_accuracy))\n",
    "    \n",
    "print('best validation accuracy achieved during cross-validation: %f' % best_val)"
   ]
  },
  {
   "cell_type": "code",
   "execution_count": 6,
   "metadata": {},
   "outputs": [
    {
     "name": "stdout",
     "output_type": "stream",
     "text": [
      "softmax on raw pixels final test set accuracy: 0.331000\n"
     ]
    }
   ],
   "source": [
    "# evaluate on test set\n",
    "# Evaluate the best softmax on test set\n",
    "y_test_pred = best_softmax.predict(X_test)\n",
    "test_accuracy = np.mean(y_test == y_test_pred)\n",
    "print('softmax on raw pixels final test set accuracy: %f' % (test_accuracy, ))"
   ]
  },
  {
   "cell_type": "markdown",
   "metadata": {},
   "source": [
    "M3 Loss"
   ]
  },
  {
   "cell_type": "code",
   "execution_count": 7,
   "metadata": {},
   "outputs": [
    {
     "name": "stdout",
     "output_type": "stream",
     "text": [
      "loss: 2.382990\n"
     ]
    }
   ],
   "source": [
    "from cs682.classifiers.softmax import softmax_loss_m3\n",
    "\n",
    "# Generate a random softmax weight matrix and use it to compute the loss.\n",
    "W = np.random.randn(3073, 10) * 0.0001\n",
    "loss, grad = softmax_loss_m3(W, X_dev, y_dev, 0.0)\n",
    "\n",
    "# As a rough sanity check, our loss should be something close to -log(0.1).\n",
    "print('loss: %f' % loss)"
   ]
  },
  {
   "cell_type": "code",
   "execution_count": 8,
   "metadata": {},
   "outputs": [
    {
     "name": "stdout",
     "output_type": "stream",
     "text": [
      "lr 1.000000e-07 reg 2.500000e+04 train accuracy: 0.337510 val accuracy: 0.335000\n",
      "lr 1.000000e-07 reg 3.300000e+04 train accuracy: 0.291449 val accuracy: 0.297000\n",
      "lr 1.000000e-07 reg 4.300000e+04 train accuracy: 0.279367 val accuracy: 0.291000\n",
      "lr 1.000000e-07 reg 5.000000e+04 train accuracy: 0.286980 val accuracy: 0.289000\n",
      "lr 2.500000e-07 reg 2.500000e+04 train accuracy: 0.281816 val accuracy: 0.290000\n",
      "lr 2.500000e-07 reg 3.300000e+04 train accuracy: 0.273286 val accuracy: 0.284000\n",
      "lr 2.500000e-07 reg 4.300000e+04 train accuracy: 0.298306 val accuracy: 0.302000\n",
      "lr 2.500000e-07 reg 5.000000e+04 train accuracy: 0.284347 val accuracy: 0.288000\n",
      "lr 4.000000e-07 reg 2.500000e+04 train accuracy: 0.277061 val accuracy: 0.290000\n",
      "lr 4.000000e-07 reg 3.300000e+04 train accuracy: 0.274408 val accuracy: 0.283000\n",
      "lr 4.000000e-07 reg 4.300000e+04 train accuracy: 0.301469 val accuracy: 0.324000\n",
      "lr 4.000000e-07 reg 5.000000e+04 train accuracy: 0.279000 val accuracy: 0.299000\n",
      "lr 5.000000e-07 reg 2.500000e+04 train accuracy: 0.271449 val accuracy: 0.294000\n",
      "lr 5.000000e-07 reg 3.300000e+04 train accuracy: 0.293000 val accuracy: 0.314000\n",
      "lr 5.000000e-07 reg 4.300000e+04 train accuracy: 0.285020 val accuracy: 0.301000\n",
      "lr 5.000000e-07 reg 5.000000e+04 train accuracy: 0.267490 val accuracy: 0.279000\n",
      "best validation accuracy achieved during cross-validation: 0.335000\n"
     ]
    }
   ],
   "source": [
    "# Use the validation set to tune hyperparameters (regularization strength and\n",
    "# learning rate). You should experiment with different ranges for the learning\n",
    "# rates and regularization strengths; if you are careful you should be able to\n",
    "# get a classification accuracy of over 0.35 on the validation set.\n",
    "from cs682.classifiers import Softmax_m3\n",
    "results = {}\n",
    "best_val = -1\n",
    "best_softmax = None\n",
    "learning_rates = [1e-7, 2.5e-7, 4e-7, 5e-7]\n",
    "regularization_strengths = [2.5e4, 3.3e4, 4.3e4, 5e4]\n",
    "\n",
    "################################################################################\n",
    "# TODO:                                                                        #\n",
    "# Use the validation set to set the learning rate and regularization strength. #\n",
    "# This should be identical to the validation that you did for the SVM; save    #\n",
    "# the best trained softmax classifer in best_softmax.                          #\n",
    "################################################################################\n",
    "for l_rate in learning_rates:\n",
    "    for r_strength in regularization_strengths:\n",
    "        # train svm\n",
    "        softmax = Softmax_m3()\n",
    "        loss_hist = softmax.train(X_train, y_train, learning_rate=l_rate, reg=r_strength,\n",
    "                      num_iters=1000, verbose=False)\n",
    "        \n",
    "        # predict for the validation set\n",
    "        y_train_pred = softmax.predict(X_train)\n",
    "        train_accuracy = np.mean(y_train == y_train_pred)\n",
    "        \n",
    "        # predict for the validation set\n",
    "        y_val_pred = softmax.predict(X_val)\n",
    "        val_accuracy = np.mean(y_val == y_val_pred)\n",
    "        \n",
    "        # table the result\n",
    "        results[(l_rate,r_strength)] = (train_accuracy,val_accuracy)\n",
    "        if val_accuracy> best_val:\n",
    "            best_val = val_accuracy\n",
    "            best_softmax = softmax\n",
    "################################################################################\n",
    "#                              END OF YOUR CODE                                #\n",
    "################################################################################\n",
    "    \n",
    "# Print out results.\n",
    "for lr, reg in sorted(results):\n",
    "    train_accuracy, val_accuracy = results[(lr, reg)]\n",
    "    print('lr %e reg %e train accuracy: %f val accuracy: %f' % (\n",
    "                lr, reg, train_accuracy, val_accuracy))\n",
    "    \n",
    "print('best validation accuracy achieved during cross-validation: %f' % best_val)"
   ]
  },
  {
   "cell_type": "code",
   "execution_count": 9,
   "metadata": {},
   "outputs": [
    {
     "name": "stdout",
     "output_type": "stream",
     "text": [
      "softmax on raw pixels final test set accuracy: 0.339000\n"
     ]
    }
   ],
   "source": [
    "# evaluate on test set\n",
    "# Evaluate the best softmax on test set\n",
    "y_test_pred = best_softmax.predict(X_test)\n",
    "test_accuracy = np.mean(y_test == y_test_pred)\n",
    "print('softmax on raw pixels final test set accuracy: %f' % (test_accuracy, ))"
   ]
  },
  {
   "cell_type": "markdown",
   "metadata": {},
   "source": [
    "M4 loss"
   ]
  },
  {
   "cell_type": "code",
   "execution_count": 3,
   "metadata": {},
   "outputs": [
    {
     "name": "stdout",
     "output_type": "stream",
     "text": [
      "loss: 2.634102\n"
     ]
    }
   ],
   "source": [
    "from cs682.classifiers.softmax import softmax_loss_m4\n",
    "\n",
    "# Generate a random softmax weight matrix and use it to compute the loss.\n",
    "W = np.random.randn(3073, 10) * 0.0001\n",
    "loss, grad = softmax_loss_m4(W, X_dev, y_dev, 0.0)\n",
    "\n",
    "# As a rough sanity check, our loss should be something close to -log(0.1).\n",
    "print('loss: %f' % loss)"
   ]
  },
  {
   "cell_type": "code",
   "execution_count": 4,
   "metadata": {},
   "outputs": [
    {
     "name": "stdout",
     "output_type": "stream",
     "text": [
      "lr 1.000000e-07 reg 2.500000e+04 train accuracy: 0.337490 val accuracy: 0.332000\n",
      "lr 1.000000e-07 reg 3.300000e+04 train accuracy: 0.309388 val accuracy: 0.323000\n",
      "lr 1.000000e-07 reg 4.300000e+04 train accuracy: 0.277510 val accuracy: 0.290000\n",
      "lr 1.000000e-07 reg 5.000000e+04 train accuracy: 0.286388 val accuracy: 0.280000\n",
      "lr 2.500000e-07 reg 2.500000e+04 train accuracy: 0.304204 val accuracy: 0.312000\n",
      "lr 2.500000e-07 reg 3.300000e+04 train accuracy: 0.272878 val accuracy: 0.278000\n",
      "lr 2.500000e-07 reg 4.300000e+04 train accuracy: 0.275959 val accuracy: 0.272000\n",
      "lr 2.500000e-07 reg 5.000000e+04 train accuracy: 0.279837 val accuracy: 0.289000\n",
      "lr 4.000000e-07 reg 2.500000e+04 train accuracy: 0.258286 val accuracy: 0.270000\n",
      "lr 4.000000e-07 reg 3.300000e+04 train accuracy: 0.279531 val accuracy: 0.281000\n",
      "lr 4.000000e-07 reg 4.300000e+04 train accuracy: 0.287204 val accuracy: 0.300000\n",
      "lr 4.000000e-07 reg 5.000000e+04 train accuracy: 0.268449 val accuracy: 0.281000\n",
      "lr 5.000000e-07 reg 2.500000e+04 train accuracy: 0.278388 val accuracy: 0.297000\n",
      "lr 5.000000e-07 reg 3.300000e+04 train accuracy: 0.244020 val accuracy: 0.267000\n",
      "lr 5.000000e-07 reg 4.300000e+04 train accuracy: 0.262735 val accuracy: 0.260000\n",
      "lr 5.000000e-07 reg 5.000000e+04 train accuracy: 0.278041 val accuracy: 0.263000\n",
      "best validation accuracy achieved during cross-validation: 0.332000\n"
     ]
    }
   ],
   "source": [
    "# Use the validation set to tune hyperparameters (regularization strength and\n",
    "# learning rate). You should experiment with different ranges for the learning\n",
    "# rates and regularization strengths; if you are careful you should be able to\n",
    "# get a classification accuracy of over 0.35 on the validation set.\n",
    "from cs682.classifiers import Softmax_m4\n",
    "results = {}\n",
    "best_val = -1\n",
    "best_softmax = None\n",
    "learning_rates = [1e-7, 2.5e-7, 4e-7, 5e-7]\n",
    "regularization_strengths = [2.5e4, 3.3e4, 4.3e4, 5e4]\n",
    "\n",
    "################################################################################\n",
    "# TODO:                                                                        #\n",
    "# Use the validation set to set the learning rate and regularization strength. #\n",
    "# This should be identical to the validation that you did for the SVM; save    #\n",
    "# the best trained softmax classifer in best_softmax.                          #\n",
    "################################################################################\n",
    "for l_rate in learning_rates:\n",
    "    for r_strength in regularization_strengths:\n",
    "        # train svm\n",
    "        softmax = Softmax_m4()\n",
    "        loss_hist = softmax.train(X_train, y_train, learning_rate=l_rate, reg=r_strength,\n",
    "                      num_iters=1000, verbose=False)\n",
    "        \n",
    "        # predict for the validation set\n",
    "        y_train_pred = softmax.predict(X_train)\n",
    "        train_accuracy = np.mean(y_train == y_train_pred)\n",
    "        \n",
    "        # predict for the validation set\n",
    "        y_val_pred = softmax.predict(X_val)\n",
    "        val_accuracy = np.mean(y_val == y_val_pred)\n",
    "        \n",
    "        # table the result\n",
    "        results[(l_rate,r_strength)] = (train_accuracy,val_accuracy)\n",
    "        if val_accuracy> best_val:\n",
    "            best_val = val_accuracy\n",
    "            best_softmax = softmax\n",
    "################################################################################\n",
    "#                              END OF YOUR CODE                                #\n",
    "################################################################################\n",
    "    \n",
    "# Print out results.\n",
    "for lr, reg in sorted(results):\n",
    "    train_accuracy, val_accuracy = results[(lr, reg)]\n",
    "    print('lr %e reg %e train accuracy: %f val accuracy: %f' % (\n",
    "                lr, reg, train_accuracy, val_accuracy))\n",
    "    \n",
    "print('best validation accuracy achieved during cross-validation: %f' % best_val)"
   ]
  },
  {
   "cell_type": "code",
   "execution_count": 5,
   "metadata": {},
   "outputs": [
    {
     "name": "stdout",
     "output_type": "stream",
     "text": [
      "softmax on raw pixels final test set accuracy: 0.351000\n"
     ]
    }
   ],
   "source": [
    "# evaluate on test set\n",
    "# Evaluate the best softmax on test set\n",
    "y_test_pred = best_softmax.predict(X_test)\n",
    "test_accuracy = np.mean(y_test == y_test_pred)\n",
    "print('softmax on raw pixels final test set accuracy: %f' % (test_accuracy, ))"
   ]
  },
  {
   "cell_type": "markdown",
   "metadata": {},
   "source": [
    "COmbine vectorized and m2"
   ]
  },
  {
   "cell_type": "code",
   "execution_count": 6,
   "metadata": {},
   "outputs": [
    {
     "name": "stdout",
     "output_type": "stream",
     "text": [
      "lr 1.000000e-07 reg 2.500000e+04 train accuracy: 0.328408 val accuracy: 0.327000\n",
      "lr 1.000000e-07 reg 3.300000e+04 train accuracy: 0.324306 val accuracy: 0.329000\n",
      "lr 1.000000e-07 reg 4.300000e+04 train accuracy: 0.316224 val accuracy: 0.327000\n",
      "lr 1.000000e-07 reg 5.000000e+04 train accuracy: 0.314612 val accuracy: 0.323000\n",
      "lr 2.500000e-07 reg 2.500000e+04 train accuracy: 0.322408 val accuracy: 0.330000\n",
      "lr 2.500000e-07 reg 3.300000e+04 train accuracy: 0.327673 val accuracy: 0.336000\n",
      "lr 2.500000e-07 reg 4.300000e+04 train accuracy: 0.317224 val accuracy: 0.338000\n",
      "lr 2.500000e-07 reg 5.000000e+04 train accuracy: 0.307694 val accuracy: 0.323000\n",
      "lr 4.000000e-07 reg 2.500000e+04 train accuracy: 0.322082 val accuracy: 0.324000\n",
      "lr 4.000000e-07 reg 3.300000e+04 train accuracy: 0.325469 val accuracy: 0.338000\n",
      "lr 4.000000e-07 reg 4.300000e+04 train accuracy: 0.315816 val accuracy: 0.318000\n",
      "lr 4.000000e-07 reg 5.000000e+04 train accuracy: 0.311980 val accuracy: 0.309000\n",
      "lr 5.000000e-07 reg 2.500000e+04 train accuracy: 0.328204 val accuracy: 0.333000\n",
      "lr 5.000000e-07 reg 3.300000e+04 train accuracy: 0.320306 val accuracy: 0.330000\n",
      "lr 5.000000e-07 reg 4.300000e+04 train accuracy: 0.303959 val accuracy: 0.310000\n",
      "lr 5.000000e-07 reg 5.000000e+04 train accuracy: 0.303959 val accuracy: 0.309000\n",
      "best validation accuracy achieved during cross-validation: 0.338000\n"
     ]
    }
   ],
   "source": [
    "# Use the validation set to tune hyperparameters (regularization strength and\n",
    "# learning rate). You should experiment with different ranges for the learning\n",
    "# rates and regularization strengths; if you are careful you should be able to\n",
    "# get a classification accuracy of over 0.35 on the validation set.\n",
    "from cs682.classifiers import Softmax_combine\n",
    "results = {}\n",
    "best_val = -1\n",
    "best_softmax = None\n",
    "learning_rates = [1e-7, 2.5e-7, 4e-7, 5e-7]\n",
    "regularization_strengths = [2.5e4, 3.3e4, 4.3e4, 5e4]\n",
    "\n",
    "################################################################################\n",
    "# TODO:                                                                        #\n",
    "# Use the validation set to set the learning rate and regularization strength. #\n",
    "# This should be identical to the validation that you did for the SVM; save    #\n",
    "# the best trained softmax classifer in best_softmax.                          #\n",
    "################################################################################\n",
    "for l_rate in learning_rates:\n",
    "    for r_strength in regularization_strengths:\n",
    "        # train svm\n",
    "        softmax = Softmax_combine()\n",
    "        loss_hist = softmax.train(X_train, y_train, learning_rate=l_rate, reg=r_strength,\n",
    "                      num_iters=1000, verbose=False)\n",
    "        \n",
    "        # predict for the validation set\n",
    "        y_train_pred = softmax.predict(X_train)\n",
    "        train_accuracy = np.mean(y_train == y_train_pred)\n",
    "        \n",
    "        # predict for the validation set\n",
    "        y_val_pred = softmax.predict(X_val)\n",
    "        val_accuracy = np.mean(y_val == y_val_pred)\n",
    "        \n",
    "        # table the result\n",
    "        results[(l_rate,r_strength)] = (train_accuracy,val_accuracy)\n",
    "        if val_accuracy> best_val:\n",
    "            best_val = val_accuracy\n",
    "            best_softmax = softmax\n",
    "################################################################################\n",
    "#                              END OF YOUR CODE                                #\n",
    "################################################################################\n",
    "    \n",
    "# Print out results.\n",
    "for lr, reg in sorted(results):\n",
    "    train_accuracy, val_accuracy = results[(lr, reg)]\n",
    "    print('lr %e reg %e train accuracy: %f val accuracy: %f' % (\n",
    "                lr, reg, train_accuracy, val_accuracy))\n",
    "    \n",
    "print('best validation accuracy achieved during cross-validation: %f' % best_val)"
   ]
  },
  {
   "cell_type": "code",
   "execution_count": 7,
   "metadata": {},
   "outputs": [
    {
     "name": "stdout",
     "output_type": "stream",
     "text": [
      "softmax on raw pixels final test set accuracy: 0.326000\n"
     ]
    }
   ],
   "source": [
    "# evaluate on test set\n",
    "# Evaluate the best softmax on test set\n",
    "y_test_pred = best_softmax.predict(X_test)\n",
    "test_accuracy = np.mean(y_test == y_test_pred)\n",
    "print('softmax on raw pixels final test set accuracy: %f' % (test_accuracy, ))"
   ]
  },
  {
   "cell_type": "markdown",
   "metadata": {},
   "source": [
    "Vectorized + m3"
   ]
  },
  {
   "cell_type": "code",
   "execution_count": 3,
   "metadata": {},
   "outputs": [
    {
     "name": "stderr",
     "output_type": "stream",
     "text": [
      "C:\\Users\\sneha\\682Project\\assignment1\\cs682\\classifiers\\softmax.py:188: RuntimeWarning: divide by zero encountered in log\n",
      "  loss += -np.log(softmax_prob[y[i]])\n"
     ]
    },
    {
     "name": "stdout",
     "output_type": "stream",
     "text": [
      "lr 1.000000e-07 reg 2.500000e+04 train accuracy: 0.313673 val accuracy: 0.319000\n",
      "lr 1.000000e-07 reg 3.300000e+04 train accuracy: 0.307245 val accuracy: 0.309000\n",
      "lr 1.000000e-07 reg 4.300000e+04 train accuracy: 0.302082 val accuracy: 0.310000\n",
      "lr 1.000000e-07 reg 5.000000e+04 train accuracy: 0.304551 val accuracy: 0.310000\n",
      "lr 2.500000e-07 reg 2.500000e+04 train accuracy: 0.310265 val accuracy: 0.316000\n",
      "lr 2.500000e-07 reg 3.300000e+04 train accuracy: 0.324510 val accuracy: 0.324000\n",
      "lr 2.500000e-07 reg 4.300000e+04 train accuracy: 0.293061 val accuracy: 0.300000\n",
      "lr 2.500000e-07 reg 5.000000e+04 train accuracy: 0.273122 val accuracy: 0.275000\n",
      "lr 4.000000e-07 reg 2.500000e+04 train accuracy: 0.305653 val accuracy: 0.310000\n",
      "lr 4.000000e-07 reg 3.300000e+04 train accuracy: 0.290980 val accuracy: 0.310000\n",
      "lr 4.000000e-07 reg 4.300000e+04 train accuracy: 0.301184 val accuracy: 0.307000\n",
      "lr 4.000000e-07 reg 5.000000e+04 train accuracy: 0.289980 val accuracy: 0.283000\n",
      "lr 5.000000e-07 reg 2.500000e+04 train accuracy: 0.326102 val accuracy: 0.339000\n",
      "lr 5.000000e-07 reg 3.300000e+04 train accuracy: 0.285122 val accuracy: 0.304000\n",
      "lr 5.000000e-07 reg 4.300000e+04 train accuracy: 0.292041 val accuracy: 0.299000\n",
      "lr 5.000000e-07 reg 5.000000e+04 train accuracy: 0.303327 val accuracy: 0.312000\n",
      "best validation accuracy achieved during cross-validation: 0.339000\n"
     ]
    }
   ],
   "source": [
    "# Use the validation set to tune hyperparameters (regularization strength and\n",
    "# learning rate). You should experiment with different ranges for the learning\n",
    "# rates and regularization strengths; if you are careful you should be able to\n",
    "# get a classification accuracy of over 0.35 on the validation set.\n",
    "from cs682.classifiers import *\n",
    "results = {}\n",
    "best_val = -1\n",
    "best_softmax = None\n",
    "learning_rates = [1e-7, 2.5e-7, 4e-7, 5e-7]\n",
    "regularization_strengths = [2.5e4, 3.3e4, 4.3e4, 5e4]\n",
    "\n",
    "################################################################################\n",
    "# TODO:                                                                        #\n",
    "# Use the validation set to set the learning rate and regularization strength. #\n",
    "# This should be identical to the validation that you did for the SVM; save    #\n",
    "# the best trained softmax classifer in best_softmax.                          #\n",
    "################################################################################\n",
    "for l_rate in learning_rates:\n",
    "    for r_strength in regularization_strengths:\n",
    "        # train svm\n",
    "        softmax = Softmax_combinem3()\n",
    "        loss_hist = softmax.train(X_train, y_train, learning_rate=l_rate, reg=r_strength,\n",
    "                      num_iters=1000, verbose=False)\n",
    "        \n",
    "        # predict for the validation set\n",
    "        y_train_pred = softmax.predict(X_train)\n",
    "        train_accuracy = np.mean(y_train == y_train_pred)\n",
    "        \n",
    "        # predict for the validation set\n",
    "        y_val_pred = softmax.predict(X_val)\n",
    "        val_accuracy = np.mean(y_val == y_val_pred)\n",
    "        \n",
    "        # table the result\n",
    "        results[(l_rate,r_strength)] = (train_accuracy,val_accuracy)\n",
    "        if val_accuracy> best_val:\n",
    "            best_val = val_accuracy\n",
    "            best_softmax = softmax\n",
    "################################################################################\n",
    "#                              END OF YOUR CODE                                #\n",
    "################################################################################\n",
    "    \n",
    "# Print out results.\n",
    "for lr, reg in sorted(results):\n",
    "    train_accuracy, val_accuracy = results[(lr, reg)]\n",
    "    print('lr %e reg %e train accuracy: %f val accuracy: %f' % (\n",
    "                lr, reg, train_accuracy, val_accuracy))\n",
    "    \n",
    "print('best validation accuracy achieved during cross-validation: %f' % best_val)"
   ]
  },
  {
   "cell_type": "code",
   "execution_count": 4,
   "metadata": {},
   "outputs": [
    {
     "name": "stdout",
     "output_type": "stream",
     "text": [
      "softmax on raw pixels final test set accuracy: 0.346000\n"
     ]
    }
   ],
   "source": [
    "# evaluate on test set\n",
    "# Evaluate the best softmax on test set\n",
    "y_test_pred = best_softmax.predict(X_test)\n",
    "test_accuracy = np.mean(y_test == y_test_pred)\n",
    "print('softmax on raw pixels final test set accuracy: %f' % (test_accuracy, ))"
   ]
  },
  {
   "cell_type": "markdown",
   "metadata": {},
   "source": [
    "Vectorized + m4"
   ]
  },
  {
   "cell_type": "code",
   "execution_count": 3,
   "metadata": {},
   "outputs": [
    {
     "name": "stdout",
     "output_type": "stream",
     "text": [
      "lr 1.000000e-07 reg 2.500000e+04 train accuracy: 0.314857 val accuracy: 0.328000\n",
      "lr 1.000000e-07 reg 3.300000e+04 train accuracy: 0.309980 val accuracy: 0.320000\n",
      "lr 1.000000e-07 reg 4.300000e+04 train accuracy: 0.298000 val accuracy: 0.312000\n",
      "lr 1.000000e-07 reg 5.000000e+04 train accuracy: 0.286857 val accuracy: 0.302000\n",
      "lr 2.500000e-07 reg 2.500000e+04 train accuracy: 0.307510 val accuracy: 0.325000\n",
      "lr 2.500000e-07 reg 3.300000e+04 train accuracy: 0.301857 val accuracy: 0.312000\n",
      "lr 2.500000e-07 reg 4.300000e+04 train accuracy: 0.294694 val accuracy: 0.309000\n",
      "lr 2.500000e-07 reg 5.000000e+04 train accuracy: 0.279633 val accuracy: 0.298000\n",
      "lr 4.000000e-07 reg 2.500000e+04 train accuracy: 0.311204 val accuracy: 0.327000\n",
      "lr 4.000000e-07 reg 3.300000e+04 train accuracy: 0.292102 val accuracy: 0.303000\n",
      "lr 4.000000e-07 reg 4.300000e+04 train accuracy: 0.302837 val accuracy: 0.310000\n",
      "lr 4.000000e-07 reg 5.000000e+04 train accuracy: 0.281653 val accuracy: 0.292000\n",
      "lr 5.000000e-07 reg 2.500000e+04 train accuracy: 0.309184 val accuracy: 0.326000\n",
      "lr 5.000000e-07 reg 3.300000e+04 train accuracy: 0.300041 val accuracy: 0.318000\n",
      "lr 5.000000e-07 reg 4.300000e+04 train accuracy: 0.293143 val accuracy: 0.298000\n",
      "lr 5.000000e-07 reg 5.000000e+04 train accuracy: 0.290347 val accuracy: 0.302000\n",
      "best validation accuracy achieved during cross-validation: 0.328000\n"
     ]
    }
   ],
   "source": [
    "# Use the validation set to tune hyperparameters (regularization strength and\n",
    "# learning rate). You should experiment with different ranges for the learning\n",
    "# rates and regularization strengths; if you are careful you should be able to\n",
    "# get a classification accuracy of over 0.35 on the validation set.\n",
    "from cs682.classifiers import *\n",
    "results = {}\n",
    "best_val = -1\n",
    "best_softmax = None\n",
    "learning_rates = [1e-7, 2.5e-7, 4e-7, 5e-7]\n",
    "regularization_strengths = [2.5e4, 3.3e4, 4.3e4, 5e4]\n",
    "\n",
    "################################################################################\n",
    "# TODO:                                                                        #\n",
    "# Use the validation set to set the learning rate and regularization strength. #\n",
    "# This should be identical to the validation that you did for the SVM; save    #\n",
    "# the best trained softmax classifer in best_softmax.                          #\n",
    "################################################################################\n",
    "for l_rate in learning_rates:\n",
    "    for r_strength in regularization_strengths:\n",
    "        # train svm\n",
    "        softmax = Softmax_combinem4()\n",
    "        loss_hist = softmax.train(X_train, y_train, learning_rate=l_rate, reg=r_strength,\n",
    "                      num_iters=1000, verbose=False)\n",
    "        \n",
    "        # predict for the validation set\n",
    "        y_train_pred = softmax.predict(X_train)\n",
    "        train_accuracy = np.mean(y_train == y_train_pred)\n",
    "        \n",
    "        # predict for the validation set\n",
    "        y_val_pred = softmax.predict(X_val)\n",
    "        val_accuracy = np.mean(y_val == y_val_pred)\n",
    "        \n",
    "        # table the result\n",
    "        results[(l_rate,r_strength)] = (train_accuracy,val_accuracy)\n",
    "        if val_accuracy> best_val:\n",
    "            best_val = val_accuracy\n",
    "            best_softmax = softmax\n",
    "################################################################################\n",
    "#                              END OF YOUR CODE                                #\n",
    "################################################################################\n",
    "    \n",
    "# Print out results.\n",
    "for lr, reg in sorted(results):\n",
    "    train_accuracy, val_accuracy = results[(lr, reg)]\n",
    "    print('lr %e reg %e train accuracy: %f val accuracy: %f' % (\n",
    "                lr, reg, train_accuracy, val_accuracy))\n",
    "    \n",
    "print('best validation accuracy achieved during cross-validation: %f' % best_val)"
   ]
  },
  {
   "cell_type": "code",
   "execution_count": 4,
   "metadata": {},
   "outputs": [
    {
     "name": "stdout",
     "output_type": "stream",
     "text": [
      "softmax on raw pixels final test set accuracy: 0.328000\n"
     ]
    }
   ],
   "source": [
    "# evaluate on test set\n",
    "# Evaluate the best softmax on test set\n",
    "y_test_pred = best_softmax.predict(X_test)\n",
    "test_accuracy = np.mean(y_test == y_test_pred)\n",
    "print('softmax on raw pixels final test set accuracy: %f' % (test_accuracy, ))"
   ]
  },
  {
   "cell_type": "markdown",
   "metadata": {},
   "source": [
    "m2 + m3"
   ]
  },
  {
   "cell_type": "code",
   "execution_count": 5,
   "metadata": {},
   "outputs": [
    {
     "name": "stderr",
     "output_type": "stream",
     "text": [
      "C:\\Users\\sneha\\682Project\\assignment1\\cs682\\classifiers\\softmax.py:188: RuntimeWarning: divide by zero encountered in log\n",
      "  loss += -np.log(softmax_prob[y[i]])\n"
     ]
    },
    {
     "name": "stdout",
     "output_type": "stream",
     "text": [
      "lr 1.000000e-07 reg 2.500000e+04 train accuracy: 0.309327 val accuracy: 0.322000\n",
      "lr 1.000000e-07 reg 3.300000e+04 train accuracy: 0.305347 val accuracy: 0.311000\n",
      "lr 1.000000e-07 reg 4.300000e+04 train accuracy: 0.311592 val accuracy: 0.320000\n",
      "lr 1.000000e-07 reg 5.000000e+04 train accuracy: 0.317020 val accuracy: 0.333000\n",
      "lr 2.500000e-07 reg 2.500000e+04 train accuracy: 0.307551 val accuracy: 0.316000\n",
      "lr 2.500000e-07 reg 3.300000e+04 train accuracy: 0.283714 val accuracy: 0.298000\n",
      "lr 2.500000e-07 reg 4.300000e+04 train accuracy: 0.297796 val accuracy: 0.319000\n",
      "lr 2.500000e-07 reg 5.000000e+04 train accuracy: 0.283510 val accuracy: 0.288000\n",
      "lr 4.000000e-07 reg 2.500000e+04 train accuracy: 0.297918 val accuracy: 0.310000\n",
      "lr 4.000000e-07 reg 3.300000e+04 train accuracy: 0.271102 val accuracy: 0.291000\n",
      "lr 4.000000e-07 reg 4.300000e+04 train accuracy: 0.267510 val accuracy: 0.281000\n",
      "lr 4.000000e-07 reg 5.000000e+04 train accuracy: 0.295184 val accuracy: 0.314000\n",
      "lr 5.000000e-07 reg 2.500000e+04 train accuracy: 0.301429 val accuracy: 0.298000\n",
      "lr 5.000000e-07 reg 3.300000e+04 train accuracy: 0.282061 val accuracy: 0.304000\n",
      "lr 5.000000e-07 reg 4.300000e+04 train accuracy: 0.304939 val accuracy: 0.332000\n",
      "lr 5.000000e-07 reg 5.000000e+04 train accuracy: 0.270755 val accuracy: 0.275000\n",
      "best validation accuracy achieved during cross-validation: 0.333000\n"
     ]
    }
   ],
   "source": [
    "# Use the validation set to tune hyperparameters (regularization strength and\n",
    "# learning rate). You should experiment with different ranges for the learning\n",
    "# rates and regularization strengths; if you are careful you should be able to\n",
    "# get a classification accuracy of over 0.35 on the validation set.\n",
    "from cs682.classifiers import *\n",
    "results = {}\n",
    "best_val = -1\n",
    "best_softmax = None\n",
    "learning_rates = [1e-7, 2.5e-7, 4e-7, 5e-7]\n",
    "regularization_strengths = [2.5e4, 3.3e4, 4.3e4, 5e4]\n",
    "\n",
    "################################################################################\n",
    "# TODO:                                                                        #\n",
    "# Use the validation set to set the learning rate and regularization strength. #\n",
    "# This should be identical to the validation that you did for the SVM; save    #\n",
    "# the best trained softmax classifer in best_softmax.                          #\n",
    "################################################################################\n",
    "for l_rate in learning_rates:\n",
    "    for r_strength in regularization_strengths:\n",
    "        # train svm\n",
    "        softmax = Softmax_m2m3()\n",
    "        loss_hist = softmax.train(X_train, y_train, learning_rate=l_rate, reg=r_strength,\n",
    "                      num_iters=1000, verbose=False)\n",
    "        \n",
    "        # predict for the validation set\n",
    "        y_train_pred = softmax.predict(X_train)\n",
    "        train_accuracy = np.mean(y_train == y_train_pred)\n",
    "        \n",
    "        # predict for the validation set\n",
    "        y_val_pred = softmax.predict(X_val)\n",
    "        val_accuracy = np.mean(y_val == y_val_pred)\n",
    "        \n",
    "        # table the result\n",
    "        results[(l_rate,r_strength)] = (train_accuracy,val_accuracy)\n",
    "        if val_accuracy> best_val:\n",
    "            best_val = val_accuracy\n",
    "            best_softmax = softmax\n",
    "################################################################################\n",
    "#                              END OF YOUR CODE                                #\n",
    "################################################################################\n",
    "    \n",
    "# Print out results.\n",
    "for lr, reg in sorted(results):\n",
    "    train_accuracy, val_accuracy = results[(lr, reg)]\n",
    "    print('lr %e reg %e train accuracy: %f val accuracy: %f' % (\n",
    "                lr, reg, train_accuracy, val_accuracy))\n",
    "    \n",
    "print('best validation accuracy achieved during cross-validation: %f' % best_val)"
   ]
  },
  {
   "cell_type": "code",
   "execution_count": 6,
   "metadata": {},
   "outputs": [
    {
     "name": "stdout",
     "output_type": "stream",
     "text": [
      "softmax on raw pixels final test set accuracy: 0.315000\n"
     ]
    }
   ],
   "source": [
    "# evaluate on test set\n",
    "# Evaluate the best softmax on test set\n",
    "y_test_pred = best_softmax.predict(X_test)\n",
    "test_accuracy = np.mean(y_test == y_test_pred)\n",
    "print('softmax on raw pixels final test set accuracy: %f' % (test_accuracy, ))"
   ]
  },
  {
   "cell_type": "markdown",
   "metadata": {},
   "source": [
    "m3 + m4"
   ]
  },
  {
   "cell_type": "code",
   "execution_count": 7,
   "metadata": {},
   "outputs": [
    {
     "name": "stdout",
     "output_type": "stream",
     "text": [
      "lr 1.000000e-07 reg 2.500000e+04 train accuracy: 0.269694 val accuracy: 0.286000\n",
      "lr 1.000000e-07 reg 3.300000e+04 train accuracy: 0.297061 val accuracy: 0.303000\n",
      "lr 1.000000e-07 reg 4.300000e+04 train accuracy: 0.264102 val accuracy: 0.270000\n",
      "lr 1.000000e-07 reg 5.000000e+04 train accuracy: 0.297204 val accuracy: 0.305000\n",
      "lr 2.500000e-07 reg 2.500000e+04 train accuracy: 0.295306 val accuracy: 0.315000\n",
      "lr 2.500000e-07 reg 3.300000e+04 train accuracy: 0.282265 val accuracy: 0.289000\n",
      "lr 2.500000e-07 reg 4.300000e+04 train accuracy: 0.280939 val accuracy: 0.310000\n",
      "lr 2.500000e-07 reg 5.000000e+04 train accuracy: 0.243041 val accuracy: 0.254000\n",
      "lr 4.000000e-07 reg 2.500000e+04 train accuracy: 0.286653 val accuracy: 0.291000\n",
      "lr 4.000000e-07 reg 3.300000e+04 train accuracy: 0.287245 val accuracy: 0.300000\n",
      "lr 4.000000e-07 reg 4.300000e+04 train accuracy: 0.266510 val accuracy: 0.278000\n",
      "lr 4.000000e-07 reg 5.000000e+04 train accuracy: 0.242061 val accuracy: 0.244000\n",
      "lr 5.000000e-07 reg 2.500000e+04 train accuracy: 0.287592 val accuracy: 0.292000\n",
      "lr 5.000000e-07 reg 3.300000e+04 train accuracy: 0.256245 val accuracy: 0.294000\n",
      "lr 5.000000e-07 reg 4.300000e+04 train accuracy: 0.240673 val accuracy: 0.262000\n",
      "lr 5.000000e-07 reg 5.000000e+04 train accuracy: 0.249959 val accuracy: 0.268000\n",
      "best validation accuracy achieved during cross-validation: 0.315000\n"
     ]
    }
   ],
   "source": [
    "# Use the validation set to tune hyperparameters (regularization strength and\n",
    "# learning rate). You should experiment with different ranges for the learning\n",
    "# rates and regularization strengths; if you are careful you should be able to\n",
    "# get a classification accuracy of over 0.35 on the validation set.\n",
    "from cs682.classifiers import *\n",
    "results = {}\n",
    "best_val = -1\n",
    "best_softmax = None\n",
    "learning_rates = [1e-7, 2.5e-7, 4e-7, 5e-7]\n",
    "regularization_strengths = [2.5e4, 3.3e4, 4.3e4, 5e4]\n",
    "\n",
    "################################################################################\n",
    "# TODO:                                                                        #\n",
    "# Use the validation set to set the learning rate and regularization strength. #\n",
    "# This should be identical to the validation that you did for the SVM; save    #\n",
    "# the best trained softmax classifer in best_softmax.                          #\n",
    "################################################################################\n",
    "for l_rate in learning_rates:\n",
    "    for r_strength in regularization_strengths:\n",
    "        # train svm\n",
    "        softmax = Softmax_m3m4()\n",
    "        loss_hist = softmax.train(X_train, y_train, learning_rate=l_rate, reg=r_strength,\n",
    "                      num_iters=1000, verbose=False)\n",
    "        \n",
    "        # predict for the validation set\n",
    "        y_train_pred = softmax.predict(X_train)\n",
    "        train_accuracy = np.mean(y_train == y_train_pred)\n",
    "        \n",
    "        # predict for the validation set\n",
    "        y_val_pred = softmax.predict(X_val)\n",
    "        val_accuracy = np.mean(y_val == y_val_pred)\n",
    "        \n",
    "        # table the result\n",
    "        results[(l_rate,r_strength)] = (train_accuracy,val_accuracy)\n",
    "        if val_accuracy> best_val:\n",
    "            best_val = val_accuracy\n",
    "            best_softmax = softmax\n",
    "################################################################################\n",
    "#                              END OF YOUR CODE                                #\n",
    "################################################################################\n",
    "    \n",
    "# Print out results.\n",
    "for lr, reg in sorted(results):\n",
    "    train_accuracy, val_accuracy = results[(lr, reg)]\n",
    "    print('lr %e reg %e train accuracy: %f val accuracy: %f' % (\n",
    "                lr, reg, train_accuracy, val_accuracy))\n",
    "    \n",
    "print('best validation accuracy achieved during cross-validation: %f' % best_val)"
   ]
  },
  {
   "cell_type": "code",
   "execution_count": 8,
   "metadata": {},
   "outputs": [
    {
     "name": "stdout",
     "output_type": "stream",
     "text": [
      "softmax on raw pixels final test set accuracy: 0.294000\n"
     ]
    }
   ],
   "source": [
    "# evaluate on test set\n",
    "# Evaluate the best softmax on test set\n",
    "y_test_pred = best_softmax.predict(X_test)\n",
    "test_accuracy = np.mean(y_test == y_test_pred)\n",
    "print('softmax on raw pixels final test set accuracy: %f' % (test_accuracy, ))"
   ]
  },
  {
   "cell_type": "markdown",
   "metadata": {},
   "source": [
    "m2 + m4"
   ]
  },
  {
   "cell_type": "code",
   "execution_count": 9,
   "metadata": {},
   "outputs": [
    {
     "name": "stdout",
     "output_type": "stream",
     "text": [
      "lr 1.000000e-07 reg 2.500000e+04 train accuracy: 0.303531 val accuracy: 0.316000\n",
      "lr 1.000000e-07 reg 3.300000e+04 train accuracy: 0.310082 val accuracy: 0.336000\n",
      "lr 1.000000e-07 reg 4.300000e+04 train accuracy: 0.304653 val accuracy: 0.324000\n",
      "lr 1.000000e-07 reg 5.000000e+04 train accuracy: 0.315408 val accuracy: 0.334000\n",
      "lr 2.500000e-07 reg 2.500000e+04 train accuracy: 0.314878 val accuracy: 0.344000\n",
      "lr 2.500000e-07 reg 3.300000e+04 train accuracy: 0.310327 val accuracy: 0.335000\n",
      "lr 2.500000e-07 reg 4.300000e+04 train accuracy: 0.301918 val accuracy: 0.319000\n",
      "lr 2.500000e-07 reg 5.000000e+04 train accuracy: 0.304980 val accuracy: 0.312000\n",
      "lr 4.000000e-07 reg 2.500000e+04 train accuracy: 0.295755 val accuracy: 0.312000\n",
      "lr 4.000000e-07 reg 3.300000e+04 train accuracy: 0.273122 val accuracy: 0.281000\n",
      "lr 4.000000e-07 reg 4.300000e+04 train accuracy: 0.306510 val accuracy: 0.317000\n",
      "lr 4.000000e-07 reg 5.000000e+04 train accuracy: 0.297551 val accuracy: 0.328000\n",
      "lr 5.000000e-07 reg 2.500000e+04 train accuracy: 0.296980 val accuracy: 0.299000\n",
      "lr 5.000000e-07 reg 3.300000e+04 train accuracy: 0.303571 val accuracy: 0.308000\n",
      "lr 5.000000e-07 reg 4.300000e+04 train accuracy: 0.254469 val accuracy: 0.260000\n",
      "lr 5.000000e-07 reg 5.000000e+04 train accuracy: 0.303959 val accuracy: 0.310000\n",
      "best validation accuracy achieved during cross-validation: 0.344000\n"
     ]
    }
   ],
   "source": [
    "# Use the validation set to tune hyperparameters (regularization strength and\n",
    "# learning rate). You should experiment with different ranges for the learning\n",
    "# rates and regularization strengths; if you are careful you should be able to\n",
    "# get a classification accuracy of over 0.35 on the validation set.\n",
    "from cs682.classifiers import *\n",
    "results = {}\n",
    "best_val = -1\n",
    "best_softmax = None\n",
    "learning_rates = [1e-7, 2.5e-7, 4e-7, 5e-7]\n",
    "regularization_strengths = [2.5e4, 3.3e4, 4.3e4, 5e4]\n",
    "\n",
    "################################################################################\n",
    "# TODO:                                                                        #\n",
    "# Use the validation set to set the learning rate and regularization strength. #\n",
    "# This should be identical to the validation that you did for the SVM; save    #\n",
    "# the best trained softmax classifer in best_softmax.                          #\n",
    "################################################################################\n",
    "for l_rate in learning_rates:\n",
    "    for r_strength in regularization_strengths:\n",
    "        # train svm\n",
    "        softmax = Softmax_m2m4()\n",
    "        loss_hist = softmax.train(X_train, y_train, learning_rate=l_rate, reg=r_strength,\n",
    "                      num_iters=1000, verbose=False)\n",
    "        \n",
    "        # predict for the validation set\n",
    "        y_train_pred = softmax.predict(X_train)\n",
    "        train_accuracy = np.mean(y_train == y_train_pred)\n",
    "        \n",
    "        # predict for the validation set\n",
    "        y_val_pred = softmax.predict(X_val)\n",
    "        val_accuracy = np.mean(y_val == y_val_pred)\n",
    "        \n",
    "        # table the result\n",
    "        results[(l_rate,r_strength)] = (train_accuracy,val_accuracy)\n",
    "        if val_accuracy> best_val:\n",
    "            best_val = val_accuracy\n",
    "            best_softmax = softmax\n",
    "################################################################################\n",
    "#                              END OF YOUR CODE                                #\n",
    "################################################################################\n",
    "    \n",
    "# Print out results.\n",
    "for lr, reg in sorted(results):\n",
    "    train_accuracy, val_accuracy = results[(lr, reg)]\n",
    "    print('lr %e reg %e train accuracy: %f val accuracy: %f' % (\n",
    "                lr, reg, train_accuracy, val_accuracy))\n",
    "    \n",
    "print('best validation accuracy achieved during cross-validation: %f' % best_val)"
   ]
  },
  {
   "cell_type": "code",
   "execution_count": 10,
   "metadata": {},
   "outputs": [
    {
     "name": "stdout",
     "output_type": "stream",
     "text": [
      "softmax on raw pixels final test set accuracy: 0.312000\n"
     ]
    }
   ],
   "source": [
    "# evaluate on test set\n",
    "# Evaluate the best softmax on test set\n",
    "y_test_pred = best_softmax.predict(X_test)\n",
    "test_accuracy = np.mean(y_test == y_test_pred)\n",
    "print('softmax on raw pixels final test set accuracy: %f' % (test_accuracy, ))"
   ]
  },
  {
   "cell_type": "markdown",
   "metadata": {},
   "source": [
    "Softmax + svm"
   ]
  },
  {
   "cell_type": "code",
   "execution_count": 3,
   "metadata": {},
   "outputs": [
    {
     "name": "stdout",
     "output_type": "stream",
     "text": [
      "lr 1.000000e-07 reg 2.500000e+04 train accuracy: 0.356694 val accuracy: 0.364000\n",
      "lr 1.000000e-07 reg 3.300000e+04 train accuracy: 0.356367 val accuracy: 0.371000\n",
      "lr 1.000000e-07 reg 4.300000e+04 train accuracy: 0.348388 val accuracy: 0.360000\n",
      "lr 1.000000e-07 reg 5.000000e+04 train accuracy: 0.354020 val accuracy: 0.360000\n",
      "lr 2.500000e-07 reg 2.500000e+04 train accuracy: 0.358286 val accuracy: 0.371000\n",
      "lr 2.500000e-07 reg 3.300000e+04 train accuracy: 0.346082 val accuracy: 0.352000\n",
      "lr 2.500000e-07 reg 4.300000e+04 train accuracy: 0.339469 val accuracy: 0.363000\n",
      "lr 2.500000e-07 reg 5.000000e+04 train accuracy: 0.336918 val accuracy: 0.322000\n",
      "lr 4.000000e-07 reg 2.500000e+04 train accuracy: 0.332694 val accuracy: 0.352000\n",
      "lr 4.000000e-07 reg 3.300000e+04 train accuracy: 0.328796 val accuracy: 0.324000\n",
      "lr 4.000000e-07 reg 4.300000e+04 train accuracy: 0.296367 val accuracy: 0.299000\n",
      "lr 4.000000e-07 reg 5.000000e+04 train accuracy: 0.306673 val accuracy: 0.323000\n",
      "lr 5.000000e-07 reg 2.500000e+04 train accuracy: 0.324388 val accuracy: 0.327000\n",
      "lr 5.000000e-07 reg 3.300000e+04 train accuracy: 0.299531 val accuracy: 0.305000\n",
      "lr 5.000000e-07 reg 4.300000e+04 train accuracy: 0.292306 val accuracy: 0.296000\n",
      "lr 5.000000e-07 reg 5.000000e+04 train accuracy: 0.289714 val accuracy: 0.289000\n",
      "best validation accuracy achieved during cross-validation: 0.371000\n"
     ]
    }
   ],
   "source": [
    "# Use the validation set to tune hyperparameters (regularization strength and\n",
    "# learning rate). You should experiment with different ranges for the learning\n",
    "# rates and regularization strengths; if you are careful you should be able to\n",
    "# get a classification accuracy of over 0.35 on the validation set.\n",
    "from cs682.classifiers import *\n",
    "results = {}\n",
    "best_val = -1\n",
    "best_softmax = None\n",
    "learning_rates = [1e-7, 2.5e-7, 4e-7, 5e-7]\n",
    "regularization_strengths = [2.5e4, 3.3e4, 4.3e4, 5e4]\n",
    "\n",
    "################################################################################\n",
    "# TODO:                                                                        #\n",
    "# Use the validation set to set the learning rate and regularization strength. #\n",
    "# This should be identical to the validation that you did for the SVM; save    #\n",
    "# the best trained softmax classifer in best_softmax.                          #\n",
    "################################################################################\n",
    "for l_rate in learning_rates:\n",
    "    for r_strength in regularization_strengths:\n",
    "        # train svm\n",
    "        softmax = SVM_softmax()\n",
    "        loss_hist = softmax.train(X_train, y_train, learning_rate=l_rate, reg=r_strength,\n",
    "                      num_iters=1000, verbose=False)\n",
    "        \n",
    "        # predict for the validation set\n",
    "        y_train_pred = softmax.predict(X_train)\n",
    "        train_accuracy = np.mean(y_train == y_train_pred)\n",
    "        \n",
    "        # predict for the validation set\n",
    "        y_val_pred = softmax.predict(X_val)\n",
    "        val_accuracy = np.mean(y_val == y_val_pred)\n",
    "        \n",
    "        # table the result\n",
    "        results[(l_rate,r_strength)] = (train_accuracy,val_accuracy)\n",
    "        if val_accuracy> best_val:\n",
    "            best_val = val_accuracy\n",
    "            best_softmax = softmax\n",
    "################################################################################\n",
    "#                              END OF YOUR CODE                                #\n",
    "################################################################################\n",
    "    \n",
    "# Print out results.\n",
    "for lr, reg in sorted(results):\n",
    "    train_accuracy, val_accuracy = results[(lr, reg)]\n",
    "    print('lr %e reg %e train accuracy: %f val accuracy: %f' % (\n",
    "                lr, reg, train_accuracy, val_accuracy))\n",
    "    \n",
    "print('best validation accuracy achieved during cross-validation: %f' % best_val)"
   ]
  },
  {
   "cell_type": "code",
   "execution_count": 4,
   "metadata": {},
   "outputs": [
    {
     "name": "stdout",
     "output_type": "stream",
     "text": [
      "softmax on raw pixels final test set accuracy: 0.354000\n"
     ]
    }
   ],
   "source": [
    "# evaluate on test set\n",
    "# Evaluate the best softmax on test set\n",
    "y_test_pred = best_softmax.predict(X_test)\n",
    "test_accuracy = np.mean(y_test == y_test_pred)\n",
    "print('softmax on raw pixels final test set accuracy: %f' % (test_accuracy, ))"
   ]
  },
  {
   "cell_type": "markdown",
   "metadata": {},
   "source": [
    "A-Softmax"
   ]
  },
  {
   "cell_type": "code",
   "execution_count": 3,
   "metadata": {},
   "outputs": [
    {
     "name": "stdout",
     "output_type": "stream",
     "text": [
      "lr 1.000000e-07 reg 2.500000e+04 train accuracy: 0.328837 val accuracy: 0.347000\n",
      "lr 1.000000e-07 reg 3.300000e+04 train accuracy: 0.316082 val accuracy: 0.341000\n",
      "lr 1.000000e-07 reg 4.300000e+04 train accuracy: 0.314939 val accuracy: 0.336000\n",
      "lr 1.000000e-07 reg 5.000000e+04 train accuracy: 0.305286 val accuracy: 0.321000\n",
      "lr 2.500000e-07 reg 2.500000e+04 train accuracy: 0.322163 val accuracy: 0.344000\n",
      "lr 2.500000e-07 reg 3.300000e+04 train accuracy: 0.316020 val accuracy: 0.330000\n",
      "lr 2.500000e-07 reg 4.300000e+04 train accuracy: 0.298735 val accuracy: 0.318000\n",
      "lr 2.500000e-07 reg 5.000000e+04 train accuracy: 0.299020 val accuracy: 0.313000\n",
      "lr 4.000000e-07 reg 2.500000e+04 train accuracy: 0.318959 val accuracy: 0.336000\n",
      "lr 4.000000e-07 reg 3.300000e+04 train accuracy: 0.313510 val accuracy: 0.341000\n",
      "lr 4.000000e-07 reg 4.300000e+04 train accuracy: 0.300163 val accuracy: 0.318000\n",
      "lr 4.000000e-07 reg 5.000000e+04 train accuracy: 0.314857 val accuracy: 0.326000\n",
      "lr 5.000000e-07 reg 2.500000e+04 train accuracy: 0.308306 val accuracy: 0.318000\n",
      "lr 5.000000e-07 reg 3.300000e+04 train accuracy: 0.312408 val accuracy: 0.326000\n",
      "lr 5.000000e-07 reg 4.300000e+04 train accuracy: 0.299980 val accuracy: 0.326000\n",
      "lr 5.000000e-07 reg 5.000000e+04 train accuracy: 0.318959 val accuracy: 0.329000\n",
      "best validation accuracy achieved during cross-validation: 0.347000\n"
     ]
    }
   ],
   "source": [
    "# Use the validation set to tune hyperparameters (regularization strength and\n",
    "# learning rate). You should experiment with different ranges for the learning\n",
    "# rates and regularization strengths; if you are careful you should be able to\n",
    "# get a classification accuracy of over 0.35 on the validation set.\n",
    "from cs682.classifiers import *\n",
    "results = {}\n",
    "best_val = -1\n",
    "best_softmax = None\n",
    "learning_rates = [1e-7, 2.5e-7, 4e-7, 5e-7]\n",
    "regularization_strengths = [2.5e4, 3.3e4, 4.3e4, 5e4]\n",
    "\n",
    "################################################################################\n",
    "# TODO:                                                                        #\n",
    "# Use the validation set to set the learning rate and regularization strength. #\n",
    "# This should be identical to the validation that you did for the SVM; save    #\n",
    "# the best trained softmax classifer in best_softmax.                          #\n",
    "################################################################################\n",
    "for l_rate in learning_rates:\n",
    "    for r_strength in regularization_strengths:\n",
    "        # train svm\n",
    "        softmax = ASoftmax()\n",
    "        loss_hist = softmax.train(X_train, y_train, learning_rate=l_rate, reg=r_strength,\n",
    "                      num_iters=1000, verbose=False)\n",
    "        \n",
    "        # predict for the validation set\n",
    "        y_train_pred = softmax.predict(X_train)\n",
    "        train_accuracy = np.mean(y_train == y_train_pred)\n",
    "        \n",
    "        # predict for the validation set\n",
    "        y_val_pred = softmax.predict(X_val)\n",
    "        val_accuracy = np.mean(y_val == y_val_pred)\n",
    "        \n",
    "        # table the result\n",
    "        results[(l_rate,r_strength)] = (train_accuracy,val_accuracy)\n",
    "        if val_accuracy> best_val:\n",
    "            best_val = val_accuracy\n",
    "            best_softmax = softmax\n",
    "################################################################################\n",
    "#                              END OF YOUR CODE                                #\n",
    "################################################################################\n",
    "    \n",
    "# Print out results.\n",
    "for lr, reg in sorted(results):\n",
    "    train_accuracy, val_accuracy = results[(lr, reg)]\n",
    "    print('lr %e reg %e train accuracy: %f val accuracy: %f' % (\n",
    "                lr, reg, train_accuracy, val_accuracy))\n",
    "    \n",
    "print('best validation accuracy achieved during cross-validation: %f' % best_val)"
   ]
  },
  {
   "cell_type": "code",
   "execution_count": 4,
   "metadata": {},
   "outputs": [
    {
     "name": "stdout",
     "output_type": "stream",
     "text": [
      "softmax on raw pixels final test set accuracy: 0.336000\n"
     ]
    }
   ],
   "source": [
    "# evaluate on test set\n",
    "# Evaluate the best softmax on test set\n",
    "y_test_pred = best_softmax.predict(X_test)\n",
    "test_accuracy = np.mean(y_test == y_test_pred)\n",
    "print('softmax on raw pixels final test set accuracy: %f' % (test_accuracy, ))"
   ]
  },
  {
   "cell_type": "markdown",
   "metadata": {},
   "source": [
    "A-Softmax m=2"
   ]
  },
  {
   "cell_type": "code",
   "execution_count": 5,
   "metadata": {},
   "outputs": [
    {
     "name": "stderr",
     "output_type": "stream",
     "text": [
      "C:\\Users\\sneha\\682Project\\assignment1\\cs682\\classifiers\\softmax.py:399: RuntimeWarning: divide by zero encountered in log\n",
      "  loss += -np.log(softmax_prob[y[i]])\n"
     ]
    },
    {
     "name": "stdout",
     "output_type": "stream",
     "text": [
      "lr 1.000000e-07 reg 2.500000e+04 train accuracy: 0.326204 val accuracy: 0.334000\n",
      "lr 1.000000e-07 reg 3.300000e+04 train accuracy: 0.314429 val accuracy: 0.335000\n",
      "lr 1.000000e-07 reg 4.300000e+04 train accuracy: 0.305837 val accuracy: 0.318000\n",
      "lr 1.000000e-07 reg 5.000000e+04 train accuracy: 0.303918 val accuracy: 0.322000\n",
      "lr 2.500000e-07 reg 2.500000e+04 train accuracy: 0.323898 val accuracy: 0.333000\n",
      "lr 2.500000e-07 reg 3.300000e+04 train accuracy: 0.320286 val accuracy: 0.331000\n",
      "lr 2.500000e-07 reg 4.300000e+04 train accuracy: 0.298776 val accuracy: 0.312000\n",
      "lr 2.500000e-07 reg 5.000000e+04 train accuracy: 0.304857 val accuracy: 0.327000\n",
      "lr 4.000000e-07 reg 2.500000e+04 train accuracy: 0.325449 val accuracy: 0.328000\n",
      "lr 4.000000e-07 reg 3.300000e+04 train accuracy: 0.308939 val accuracy: 0.322000\n",
      "lr 4.000000e-07 reg 4.300000e+04 train accuracy: 0.316367 val accuracy: 0.324000\n",
      "lr 4.000000e-07 reg 5.000000e+04 train accuracy: 0.302939 val accuracy: 0.318000\n",
      "lr 5.000000e-07 reg 2.500000e+04 train accuracy: 0.309653 val accuracy: 0.322000\n",
      "lr 5.000000e-07 reg 3.300000e+04 train accuracy: 0.315184 val accuracy: 0.323000\n",
      "lr 5.000000e-07 reg 4.300000e+04 train accuracy: 0.297224 val accuracy: 0.309000\n",
      "lr 5.000000e-07 reg 5.000000e+04 train accuracy: 0.291735 val accuracy: 0.300000\n",
      "best validation accuracy achieved during cross-validation: 0.335000\n"
     ]
    }
   ],
   "source": [
    "# Use the validation set to tune hyperparameters (regularization strength and\n",
    "# learning rate). You should experiment with different ranges for the learning\n",
    "# rates and regularization strengths; if you are careful you should be able to\n",
    "# get a classification accuracy of over 0.35 on the validation set.\n",
    "from cs682.classifiers import *\n",
    "results = {}\n",
    "best_val = -1\n",
    "best_softmax = None\n",
    "learning_rates = [1e-7, 2.5e-7, 4e-7, 5e-7]\n",
    "regularization_strengths = [2.5e4, 3.3e4, 4.3e4, 5e4]\n",
    "\n",
    "################################################################################\n",
    "# TODO:                                                                        #\n",
    "# Use the validation set to set the learning rate and regularization strength. #\n",
    "# This should be identical to the validation that you did for the SVM; save    #\n",
    "# the best trained softmax classifer in best_softmax.                          #\n",
    "################################################################################\n",
    "for l_rate in learning_rates:\n",
    "    for r_strength in regularization_strengths:\n",
    "        # train svm\n",
    "        softmax = ASoftmax_m2()\n",
    "        loss_hist = softmax.train(X_train, y_train, learning_rate=l_rate, reg=r_strength,\n",
    "                      num_iters=1000, verbose=False)\n",
    "        \n",
    "        # predict for the validation set\n",
    "        y_train_pred = softmax.predict(X_train)\n",
    "        train_accuracy = np.mean(y_train == y_train_pred)\n",
    "        \n",
    "        # predict for the validation set\n",
    "        y_val_pred = softmax.predict(X_val)\n",
    "        val_accuracy = np.mean(y_val == y_val_pred)\n",
    "        \n",
    "        # table the result\n",
    "        results[(l_rate,r_strength)] = (train_accuracy,val_accuracy)\n",
    "        if val_accuracy> best_val:\n",
    "            best_val = val_accuracy\n",
    "            best_softmax = softmax\n",
    "################################################################################\n",
    "#                              END OF YOUR CODE                                #\n",
    "################################################################################\n",
    "    \n",
    "# Print out results.\n",
    "for lr, reg in sorted(results):\n",
    "    train_accuracy, val_accuracy = results[(lr, reg)]\n",
    "    print('lr %e reg %e train accuracy: %f val accuracy: %f' % (\n",
    "                lr, reg, train_accuracy, val_accuracy))\n",
    "    \n",
    "print('best validation accuracy achieved during cross-validation: %f' % best_val)"
   ]
  },
  {
   "cell_type": "code",
   "execution_count": 6,
   "metadata": {},
   "outputs": [
    {
     "name": "stdout",
     "output_type": "stream",
     "text": [
      "softmax on raw pixels final test set accuracy: 0.323000\n"
     ]
    }
   ],
   "source": [
    "# evaluate on test set\n",
    "# Evaluate the best softmax on test set\n",
    "y_test_pred = best_softmax.predict(X_test)\n",
    "test_accuracy = np.mean(y_test == y_test_pred)\n",
    "print('softmax on raw pixels final test set accuracy: %f' % (test_accuracy, ))"
   ]
  },
  {
   "cell_type": "markdown",
   "metadata": {},
   "source": [
    "A-Softmax m=3"
   ]
  },
  {
   "cell_type": "code",
   "execution_count": 7,
   "metadata": {},
   "outputs": [
    {
     "name": "stdout",
     "output_type": "stream",
     "text": [
      "lr 1.000000e-07 reg 2.500000e+04 train accuracy: 0.318449 val accuracy: 0.338000\n",
      "lr 1.000000e-07 reg 3.300000e+04 train accuracy: 0.309265 val accuracy: 0.324000\n",
      "lr 1.000000e-07 reg 4.300000e+04 train accuracy: 0.304939 val accuracy: 0.317000\n",
      "lr 1.000000e-07 reg 5.000000e+04 train accuracy: 0.297571 val accuracy: 0.307000\n",
      "lr 2.500000e-07 reg 2.500000e+04 train accuracy: 0.324449 val accuracy: 0.340000\n",
      "lr 2.500000e-07 reg 3.300000e+04 train accuracy: 0.311776 val accuracy: 0.322000\n",
      "lr 2.500000e-07 reg 4.300000e+04 train accuracy: 0.296796 val accuracy: 0.322000\n",
      "lr 2.500000e-07 reg 5.000000e+04 train accuracy: 0.281612 val accuracy: 0.299000\n",
      "lr 4.000000e-07 reg 2.500000e+04 train accuracy: 0.311041 val accuracy: 0.332000\n",
      "lr 4.000000e-07 reg 3.300000e+04 train accuracy: 0.315571 val accuracy: 0.330000\n",
      "lr 4.000000e-07 reg 4.300000e+04 train accuracy: 0.305980 val accuracy: 0.325000\n",
      "lr 4.000000e-07 reg 5.000000e+04 train accuracy: 0.291327 val accuracy: 0.300000\n",
      "lr 5.000000e-07 reg 2.500000e+04 train accuracy: 0.303673 val accuracy: 0.321000\n",
      "lr 5.000000e-07 reg 3.300000e+04 train accuracy: 0.312878 val accuracy: 0.324000\n",
      "lr 5.000000e-07 reg 4.300000e+04 train accuracy: 0.294265 val accuracy: 0.299000\n",
      "lr 5.000000e-07 reg 5.000000e+04 train accuracy: 0.290878 val accuracy: 0.307000\n",
      "best validation accuracy achieved during cross-validation: 0.340000\n"
     ]
    }
   ],
   "source": [
    "# Use the validation set to tune hyperparameters (regularization strength and\n",
    "# learning rate). You should experiment with different ranges for the learning\n",
    "# rates and regularization strengths; if you are careful you should be able to\n",
    "# get a classification accuracy of over 0.35 on the validation set.\n",
    "from cs682.classifiers import *\n",
    "results = {}\n",
    "best_val = -1\n",
    "best_softmax = None\n",
    "learning_rates = [1e-7, 2.5e-7, 4e-7, 5e-7]\n",
    "regularization_strengths = [2.5e4, 3.3e4, 4.3e4, 5e4]\n",
    "\n",
    "################################################################################\n",
    "# TODO:                                                                        #\n",
    "# Use the validation set to set the learning rate and regularization strength. #\n",
    "# This should be identical to the validation that you did for the SVM; save    #\n",
    "# the best trained softmax classifer in best_softmax.                          #\n",
    "################################################################################\n",
    "for l_rate in learning_rates:\n",
    "    for r_strength in regularization_strengths:\n",
    "        # train svm\n",
    "        softmax = ASoftmax_m3()\n",
    "        loss_hist = softmax.train(X_train, y_train, learning_rate=l_rate, reg=r_strength,\n",
    "                      num_iters=1000, verbose=False)\n",
    "        \n",
    "        # predict for the validation set\n",
    "        y_train_pred = softmax.predict(X_train)\n",
    "        train_accuracy = np.mean(y_train == y_train_pred)\n",
    "        \n",
    "        # predict for the validation set\n",
    "        y_val_pred = softmax.predict(X_val)\n",
    "        val_accuracy = np.mean(y_val == y_val_pred)\n",
    "        \n",
    "        # table the result\n",
    "        results[(l_rate,r_strength)] = (train_accuracy,val_accuracy)\n",
    "        if val_accuracy> best_val:\n",
    "            best_val = val_accuracy\n",
    "            best_softmax = softmax\n",
    "################################################################################\n",
    "#                              END OF YOUR CODE                                #\n",
    "################################################################################\n",
    "    \n",
    "# Print out results.\n",
    "for lr, reg in sorted(results):\n",
    "    train_accuracy, val_accuracy = results[(lr, reg)]\n",
    "    print('lr %e reg %e train accuracy: %f val accuracy: %f' % (\n",
    "                lr, reg, train_accuracy, val_accuracy))\n",
    "    \n",
    "print('best validation accuracy achieved during cross-validation: %f' % best_val)"
   ]
  },
  {
   "cell_type": "code",
   "execution_count": 8,
   "metadata": {},
   "outputs": [
    {
     "name": "stdout",
     "output_type": "stream",
     "text": [
      "softmax on raw pixels final test set accuracy: 0.336000\n"
     ]
    }
   ],
   "source": [
    "# evaluate on test set\n",
    "# Evaluate the best softmax on test set\n",
    "y_test_pred = best_softmax.predict(X_test)\n",
    "test_accuracy = np.mean(y_test == y_test_pred)\n",
    "print('softmax on raw pixels final test set accuracy: %f' % (test_accuracy, ))"
   ]
  },
  {
   "cell_type": "markdown",
   "metadata": {},
   "source": [
    "A-Softmax m=4"
   ]
  },
  {
   "cell_type": "code",
   "execution_count": 9,
   "metadata": {},
   "outputs": [
    {
     "name": "stderr",
     "output_type": "stream",
     "text": [
      "C:\\Users\\sneha\\682Project\\assignment1\\cs682\\classifiers\\softmax.py:543: RuntimeWarning: divide by zero encountered in log\n",
      "  loss += -np.log(softmax_prob[y[i]])\n"
     ]
    },
    {
     "name": "stdout",
     "output_type": "stream",
     "text": [
      "lr 1.000000e-07 reg 2.500000e+04 train accuracy: 0.321000 val accuracy: 0.329000\n",
      "lr 1.000000e-07 reg 3.300000e+04 train accuracy: 0.313796 val accuracy: 0.329000\n",
      "lr 1.000000e-07 reg 4.300000e+04 train accuracy: 0.308347 val accuracy: 0.329000\n",
      "lr 1.000000e-07 reg 5.000000e+04 train accuracy: 0.309367 val accuracy: 0.332000\n",
      "lr 2.500000e-07 reg 2.500000e+04 train accuracy: 0.318143 val accuracy: 0.342000\n",
      "lr 2.500000e-07 reg 3.300000e+04 train accuracy: 0.305490 val accuracy: 0.321000\n",
      "lr 2.500000e-07 reg 4.300000e+04 train accuracy: 0.306265 val accuracy: 0.318000\n",
      "lr 2.500000e-07 reg 5.000000e+04 train accuracy: 0.299755 val accuracy: 0.310000\n",
      "lr 4.000000e-07 reg 2.500000e+04 train accuracy: 0.323265 val accuracy: 0.330000\n",
      "lr 4.000000e-07 reg 3.300000e+04 train accuracy: 0.305469 val accuracy: 0.319000\n",
      "lr 4.000000e-07 reg 4.300000e+04 train accuracy: 0.296735 val accuracy: 0.328000\n",
      "lr 4.000000e-07 reg 5.000000e+04 train accuracy: 0.308204 val accuracy: 0.325000\n",
      "lr 5.000000e-07 reg 2.500000e+04 train accuracy: 0.326918 val accuracy: 0.347000\n",
      "lr 5.000000e-07 reg 3.300000e+04 train accuracy: 0.319388 val accuracy: 0.336000\n",
      "lr 5.000000e-07 reg 4.300000e+04 train accuracy: 0.304306 val accuracy: 0.311000\n",
      "lr 5.000000e-07 reg 5.000000e+04 train accuracy: 0.290408 val accuracy: 0.308000\n",
      "best validation accuracy achieved during cross-validation: 0.347000\n"
     ]
    }
   ],
   "source": [
    "# Use the validation set to tune hyperparameters (regularization strength and\n",
    "# learning rate). You should experiment with different ranges for the learning\n",
    "# rates and regularization strengths; if you are careful you should be able to\n",
    "# get a classification accuracy of over 0.35 on the validation set.\n",
    "from cs682.classifiers import *\n",
    "results = {}\n",
    "best_val = -1\n",
    "best_softmax = None\n",
    "learning_rates = [1e-7, 2.5e-7, 4e-7, 5e-7]\n",
    "regularization_strengths = [2.5e4, 3.3e4, 4.3e4, 5e4]\n",
    "\n",
    "################################################################################\n",
    "# TODO:                                                                        #\n",
    "# Use the validation set to set the learning rate and regularization strength. #\n",
    "# This should be identical to the validation that you did for the SVM; save    #\n",
    "# the best trained softmax classifer in best_softmax.                          #\n",
    "################################################################################\n",
    "for l_rate in learning_rates:\n",
    "    for r_strength in regularization_strengths:\n",
    "        # train svm\n",
    "        softmax = ASoftmax_m4()\n",
    "        loss_hist = softmax.train(X_train, y_train, learning_rate=l_rate, reg=r_strength,\n",
    "                      num_iters=1000, verbose=False)\n",
    "        \n",
    "        # predict for the validation set\n",
    "        y_train_pred = softmax.predict(X_train)\n",
    "        train_accuracy = np.mean(y_train == y_train_pred)\n",
    "        \n",
    "        # predict for the validation set\n",
    "        y_val_pred = softmax.predict(X_val)\n",
    "        val_accuracy = np.mean(y_val == y_val_pred)\n",
    "        \n",
    "        # table the result\n",
    "        results[(l_rate,r_strength)] = (train_accuracy,val_accuracy)\n",
    "        if val_accuracy> best_val:\n",
    "            best_val = val_accuracy\n",
    "            best_softmax = softmax\n",
    "################################################################################\n",
    "#                              END OF YOUR CODE                                #\n",
    "################################################################################\n",
    "    \n",
    "# Print out results.\n",
    "for lr, reg in sorted(results):\n",
    "    train_accuracy, val_accuracy = results[(lr, reg)]\n",
    "    print('lr %e reg %e train accuracy: %f val accuracy: %f' % (\n",
    "                lr, reg, train_accuracy, val_accuracy))\n",
    "    \n",
    "print('best validation accuracy achieved during cross-validation: %f' % best_val)"
   ]
  },
  {
   "cell_type": "code",
   "execution_count": 10,
   "metadata": {},
   "outputs": [
    {
     "name": "stdout",
     "output_type": "stream",
     "text": [
      "softmax on raw pixels final test set accuracy: 0.332000\n"
     ]
    }
   ],
   "source": [
    "# evaluate on test set\n",
    "# Evaluate the best softmax on test set\n",
    "y_test_pred = best_softmax.predict(X_test)\n",
    "test_accuracy = np.mean(y_test == y_test_pred)\n",
    "print('softmax on raw pixels final test set accuracy: %f' % (test_accuracy, ))"
   ]
  },
  {
   "cell_type": "markdown",
   "metadata": {},
   "source": [
    "A-Softmax + L-Softmax"
   ]
  },
  {
   "cell_type": "code",
   "execution_count": 3,
   "metadata": {},
   "outputs": [
    {
     "name": "stderr",
     "output_type": "stream",
     "text": [
      "C:\\Users\\sneha\\682Project\\assignment1\\cs682\\classifiers\\softmax.py:188: RuntimeWarning: divide by zero encountered in log\n",
      "  loss += -np.log(softmax_prob[y[i]])\n"
     ]
    },
    {
     "name": "stdout",
     "output_type": "stream",
     "text": [
      "lr 1.000000e-07 reg 2.500000e+04 train accuracy: 0.307735 val accuracy: 0.320000\n",
      "lr 1.000000e-07 reg 3.300000e+04 train accuracy: 0.306633 val accuracy: 0.327000\n",
      "lr 1.000000e-07 reg 4.300000e+04 train accuracy: 0.313122 val accuracy: 0.310000\n",
      "lr 1.000000e-07 reg 5.000000e+04 train accuracy: 0.292245 val accuracy: 0.301000\n",
      "lr 2.500000e-07 reg 2.500000e+04 train accuracy: 0.312918 val accuracy: 0.330000\n",
      "lr 2.500000e-07 reg 3.300000e+04 train accuracy: 0.290408 val accuracy: 0.302000\n",
      "lr 2.500000e-07 reg 4.300000e+04 train accuracy: 0.302918 val accuracy: 0.325000\n",
      "lr 2.500000e-07 reg 5.000000e+04 train accuracy: 0.306898 val accuracy: 0.310000\n",
      "lr 4.000000e-07 reg 2.500000e+04 train accuracy: 0.301163 val accuracy: 0.315000\n",
      "lr 4.000000e-07 reg 3.300000e+04 train accuracy: 0.283265 val accuracy: 0.307000\n",
      "lr 4.000000e-07 reg 4.300000e+04 train accuracy: 0.290306 val accuracy: 0.308000\n",
      "lr 4.000000e-07 reg 5.000000e+04 train accuracy: 0.287796 val accuracy: 0.296000\n",
      "lr 5.000000e-07 reg 2.500000e+04 train accuracy: 0.304224 val accuracy: 0.314000\n",
      "lr 5.000000e-07 reg 3.300000e+04 train accuracy: 0.309571 val accuracy: 0.313000\n",
      "lr 5.000000e-07 reg 4.300000e+04 train accuracy: 0.287653 val accuracy: 0.294000\n",
      "lr 5.000000e-07 reg 5.000000e+04 train accuracy: 0.292184 val accuracy: 0.302000\n",
      "best validation accuracy achieved during cross-validation: 0.330000\n"
     ]
    }
   ],
   "source": [
    "# Use the validation set to tune hyperparameters (regularization strength and\n",
    "# learning rate). You should experiment with different ranges for the learning\n",
    "# rates and regularization strengths; if you are careful you should be able to\n",
    "# get a classification accuracy of over 0.35 on the validation set.\n",
    "from cs682.classifiers import *\n",
    "results = {}\n",
    "best_val = -1\n",
    "best_softmax = None\n",
    "learning_rates = [1e-7, 2.5e-7, 4e-7, 5e-7]\n",
    "regularization_strengths = [2.5e4, 3.3e4, 4.3e4, 5e4]\n",
    "\n",
    "################################################################################\n",
    "# TODO:                                                                        #\n",
    "# Use the validation set to set the learning rate and regularization strength. #\n",
    "# This should be identical to the validation that you did for the SVM; save    #\n",
    "# the best trained softmax classifer in best_softmax.                          #\n",
    "################################################################################\n",
    "for l_rate in learning_rates:\n",
    "    for r_strength in regularization_strengths:\n",
    "        # train svm\n",
    "        softmax = ASoftmax_Lsoftmax()\n",
    "        loss_hist = softmax.train(X_train, y_train, learning_rate=l_rate, reg=r_strength,\n",
    "                      num_iters=1000, verbose=False)\n",
    "        \n",
    "        # predict for the validation set\n",
    "        y_train_pred = softmax.predict(X_train)\n",
    "        train_accuracy = np.mean(y_train == y_train_pred)\n",
    "        \n",
    "        # predict for the validation set\n",
    "        y_val_pred = softmax.predict(X_val)\n",
    "        val_accuracy = np.mean(y_val == y_val_pred)\n",
    "        \n",
    "        # table the result\n",
    "        results[(l_rate,r_strength)] = (train_accuracy,val_accuracy)\n",
    "        if val_accuracy> best_val:\n",
    "            best_val = val_accuracy\n",
    "            best_softmax = softmax\n",
    "################################################################################\n",
    "#                              END OF YOUR CODE                                #\n",
    "################################################################################\n",
    "    \n",
    "# Print out results.\n",
    "for lr, reg in sorted(results):\n",
    "    train_accuracy, val_accuracy = results[(lr, reg)]\n",
    "    print('lr %e reg %e train accuracy: %f val accuracy: %f' % (\n",
    "                lr, reg, train_accuracy, val_accuracy))\n",
    "    \n",
    "print('best validation accuracy achieved during cross-validation: %f' % best_val)"
   ]
  },
  {
   "cell_type": "code",
   "execution_count": 4,
   "metadata": {},
   "outputs": [
    {
     "name": "stdout",
     "output_type": "stream",
     "text": [
      "softmax on raw pixels final test set accuracy: 0.326000\n"
     ]
    }
   ],
   "source": [
    "# evaluate on test set\n",
    "# Evaluate the best softmax on test set\n",
    "y_test_pred = best_softmax.predict(X_test)\n",
    "test_accuracy = np.mean(y_test == y_test_pred)\n",
    "print('softmax on raw pixels final test set accuracy: %f' % (test_accuracy, ))"
   ]
  },
  {
   "cell_type": "markdown",
   "metadata": {},
   "source": [
    "Grid Search for Loss Combination"
   ]
  },
  {
   "cell_type": "code",
   "execution_count": null,
   "metadata": {},
   "outputs": [],
   "source": [
    "# Use the validation set to tune hyperparameters (regularization strength and\n",
    "# learning rate). You should experiment with different ranges for the learning\n",
    "# rates and regularization strengths; if you are careful you should be able to\n",
    "# get a classification accuracy of over 0.35 on the validation set.\n",
    "from cs682.classifiers import *\n",
    "results = {}\n",
    "best_val = -1\n",
    "best_softmax = None\n",
    "learning_rates = [1e-7, 2.5e-7, 4e-7, 5e-7]\n",
    "regularization_strengths = [2.5e4, 3.3e4, 4.3e4, 5e4]\n",
    "\n",
    "\n",
    "################################################################################\n",
    "# TODO:                                                                        #\n",
    "# Use the validation set to set the learning rate and regularization strength. #\n",
    "# This should be identical to the validation that you did for the SVM; save    #\n",
    "# the best trained softmax classifer in best_softmax.                          #\n",
    "################################################################################\n",
    "for l_rate in learning_rates:\n",
    "    for r_strength in regularization_strengths:\n",
    "        # train svm\n",
    "        softmax = ASoftmax_Lsoftmax()\n",
    "        loss_hist = softmax.train(X_train, y_train, learning_rate=l_rate, reg=r_strength,\n",
    "                      num_iters=1000, verbose=False)\n",
    "        \n",
    "        # predict for the validation set\n",
    "        y_train_pred = softmax.predict(X_train)\n",
    "        train_accuracy = np.mean(y_train == y_train_pred)\n",
    "        \n",
    "        # predict for the validation set\n",
    "        y_val_pred = softmax.predict(X_val)\n",
    "        val_accuracy = np.mean(y_val == y_val_pred)\n",
    "        \n",
    "        # table the result\n",
    "        results[(l_rate,r_strength)] = (train_accuracy,val_accuracy)\n",
    "        if val_accuracy> best_val:\n",
    "            best_val = val_accuracy\n",
    "            best_softmax = softmax\n",
    "################################################################################\n",
    "#                              END OF YOUR CODE                                #\n",
    "################################################################################\n",
    "    \n",
    "# Print out results.\n",
    "for lr, reg in sorted(results):\n",
    "    train_accuracy, val_accuracy = results[(lr, reg)]\n",
    "    print('lr %e reg %e train accuracy: %f val accuracy: %f' % (\n",
    "                lr, reg, train_accuracy, val_accuracy))\n",
    "    \n",
    "print('best validation accuracy achieved during cross-validation: %f' % best_val)"
   ]
  },
  {
   "cell_type": "code",
   "execution_count": null,
   "metadata": {},
   "outputs": [],
   "source": [
    "# evaluate on test set\n",
    "# Evaluate the best softmax on test set\n",
    "y_test_pred = best_softmax.predict(X_test)\n",
    "test_accuracy = np.mean(y_test == y_test_pred)\n",
    "print('softmax on raw pixels final test set accuracy: %f' % (test_accuracy, ))"
   ]
  },
  {
   "cell_type": "code",
   "execution_count": null,
   "metadata": {},
   "outputs": [],
   "source": []
  },
  {
   "cell_type": "code",
   "execution_count": null,
   "metadata": {},
   "outputs": [],
   "source": []
  }
 ],
 "metadata": {
  "kernelspec": {
   "display_name": "Python 3",
   "language": "python",
   "name": "python3"
  },
  "language_info": {
   "codemirror_mode": {
    "name": "ipython",
    "version": 3
   },
   "file_extension": ".py",
   "mimetype": "text/x-python",
   "name": "python",
   "nbconvert_exporter": "python",
   "pygments_lexer": "ipython3",
   "version": "3.8.8"
  }
 },
 "nbformat": 4,
 "nbformat_minor": 1
}
